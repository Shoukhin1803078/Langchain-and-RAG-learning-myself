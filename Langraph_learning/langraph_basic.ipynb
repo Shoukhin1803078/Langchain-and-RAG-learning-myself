{
 "cells": [
  {
   "cell_type": "code",
   "execution_count": 2,
   "metadata": {},
   "outputs": [
    {
     "name": "stdout",
     "output_type": "stream",
     "text": [
      "Collecting langchain_ollama\n",
      "  Downloading langchain_ollama-0.2.3-py3-none-any.whl.metadata (1.9 kB)\n",
      "Collecting langchain-core<0.4.0,>=0.3.33 (from langchain_ollama)\n",
      "  Downloading langchain_core-0.3.34-py3-none-any.whl.metadata (5.9 kB)\n",
      "Collecting ollama<1,>=0.4.4 (from langchain_ollama)\n",
      "  Using cached ollama-0.4.7-py3-none-any.whl.metadata (4.7 kB)\n",
      "Requirement already satisfied: langsmith<0.4,>=0.1.125 in c:\\users\\pc\\appdata\\local\\programs\\python\\python312\\lib\\site-packages (from langchain-core<0.4.0,>=0.3.33->langchain_ollama) (0.1.129)\n",
      "Requirement already satisfied: tenacity!=8.4.0,<10.0.0,>=8.1.0 in c:\\users\\pc\\appdata\\local\\programs\\python\\python312\\lib\\site-packages (from langchain-core<0.4.0,>=0.3.33->langchain_ollama) (8.5.0)\n",
      "Requirement already satisfied: jsonpatch<2.0,>=1.33 in c:\\users\\pc\\appdata\\local\\programs\\python\\python312\\lib\\site-packages (from langchain-core<0.4.0,>=0.3.33->langchain_ollama) (1.33)\n",
      "Requirement already satisfied: PyYAML>=5.3 in c:\\users\\pc\\appdata\\local\\programs\\python\\python312\\lib\\site-packages (from langchain-core<0.4.0,>=0.3.33->langchain_ollama) (6.0.2)\n",
      "Requirement already satisfied: packaging<25,>=23.2 in c:\\users\\pc\\appdata\\local\\programs\\python\\python312\\lib\\site-packages (from langchain-core<0.4.0,>=0.3.33->langchain_ollama) (23.2)\n",
      "Requirement already satisfied: typing-extensions>=4.7 in c:\\users\\pc\\appdata\\local\\programs\\python\\python312\\lib\\site-packages (from langchain-core<0.4.0,>=0.3.33->langchain_ollama) (4.12.2)\n",
      "Requirement already satisfied: pydantic<3.0.0,>=2.7.4 in c:\\users\\pc\\appdata\\local\\programs\\python\\python312\\lib\\site-packages (from langchain-core<0.4.0,>=0.3.33->langchain_ollama) (2.9.1)\n",
      "Requirement already satisfied: httpx<0.29,>=0.27 in c:\\users\\pc\\appdata\\local\\programs\\python\\python312\\lib\\site-packages (from ollama<1,>=0.4.4->langchain_ollama) (0.27.2)\n",
      "Requirement already satisfied: anyio in c:\\users\\pc\\appdata\\local\\programs\\python\\python312\\lib\\site-packages (from httpx<0.29,>=0.27->ollama<1,>=0.4.4->langchain_ollama) (4.6.0)\n",
      "Requirement already satisfied: certifi in c:\\users\\pc\\appdata\\local\\programs\\python\\python312\\lib\\site-packages (from httpx<0.29,>=0.27->ollama<1,>=0.4.4->langchain_ollama) (2024.8.30)\n",
      "Requirement already satisfied: httpcore==1.* in c:\\users\\pc\\appdata\\local\\programs\\python\\python312\\lib\\site-packages (from httpx<0.29,>=0.27->ollama<1,>=0.4.4->langchain_ollama) (1.0.5)\n",
      "Requirement already satisfied: idna in c:\\users\\pc\\appdata\\local\\programs\\python\\python312\\lib\\site-packages (from httpx<0.29,>=0.27->ollama<1,>=0.4.4->langchain_ollama) (3.9)\n",
      "Requirement already satisfied: sniffio in c:\\users\\pc\\appdata\\local\\programs\\python\\python312\\lib\\site-packages (from httpx<0.29,>=0.27->ollama<1,>=0.4.4->langchain_ollama) (1.3.1)\n",
      "Requirement already satisfied: h11<0.15,>=0.13 in c:\\users\\pc\\appdata\\local\\programs\\python\\python312\\lib\\site-packages (from httpcore==1.*->httpx<0.29,>=0.27->ollama<1,>=0.4.4->langchain_ollama) (0.14.0)\n",
      "Requirement already satisfied: jsonpointer>=1.9 in c:\\users\\pc\\appdata\\local\\programs\\python\\python312\\lib\\site-packages (from jsonpatch<2.0,>=1.33->langchain-core<0.4.0,>=0.3.33->langchain_ollama) (3.0.0)\n",
      "Requirement already satisfied: orjson<4.0.0,>=3.9.14 in c:\\users\\pc\\appdata\\local\\programs\\python\\python312\\lib\\site-packages (from langsmith<0.4,>=0.1.125->langchain-core<0.4.0,>=0.3.33->langchain_ollama) (3.10.7)\n",
      "Requirement already satisfied: requests<3,>=2 in c:\\users\\pc\\appdata\\local\\programs\\python\\python312\\lib\\site-packages (from langsmith<0.4,>=0.1.125->langchain-core<0.4.0,>=0.3.33->langchain_ollama) (2.32.3)\n",
      "Requirement already satisfied: annotated-types>=0.6.0 in c:\\users\\pc\\appdata\\local\\programs\\python\\python312\\lib\\site-packages (from pydantic<3.0.0,>=2.7.4->langchain-core<0.4.0,>=0.3.33->langchain_ollama) (0.7.0)\n",
      "Requirement already satisfied: pydantic-core==2.23.3 in c:\\users\\pc\\appdata\\local\\programs\\python\\python312\\lib\\site-packages (from pydantic<3.0.0,>=2.7.4->langchain-core<0.4.0,>=0.3.33->langchain_ollama) (2.23.3)\n",
      "Requirement already satisfied: charset-normalizer<4,>=2 in c:\\users\\pc\\appdata\\local\\programs\\python\\python312\\lib\\site-packages (from requests<3,>=2->langsmith<0.4,>=0.1.125->langchain-core<0.4.0,>=0.3.33->langchain_ollama) (3.3.2)\n",
      "Requirement already satisfied: urllib3<3,>=1.21.1 in c:\\users\\pc\\appdata\\local\\programs\\python\\python312\\lib\\site-packages (from requests<3,>=2->langsmith<0.4,>=0.1.125->langchain-core<0.4.0,>=0.3.33->langchain_ollama) (2.2.3)\n",
      "Downloading langchain_ollama-0.2.3-py3-none-any.whl (19 kB)\n",
      "Downloading langchain_core-0.3.34-py3-none-any.whl (412 kB)\n",
      "Using cached ollama-0.4.7-py3-none-any.whl (13 kB)\n",
      "Installing collected packages: ollama, langchain-core, langchain_ollama\n",
      "  Attempting uninstall: langchain-core\n",
      "    Found existing installation: langchain-core 0.3.19\n",
      "    Uninstalling langchain-core-0.3.19:\n",
      "      Successfully uninstalled langchain-core-0.3.19\n",
      "Successfully installed langchain-core-0.3.34 langchain_ollama-0.2.3 ollama-0.4.7\n"
     ]
    },
    {
     "name": "stderr",
     "output_type": "stream",
     "text": [
      "ERROR: pip's dependency resolver does not currently take into account all the packages that are installed. This behaviour is the source of the following dependency conflicts.\n",
      "langchain-community 0.0.20 requires langchain-core<0.2,>=0.1.21, but you have langchain-core 0.3.34 which is incompatible.\n",
      "langchain-community 0.0.20 requires langsmith<0.1,>=0.0.83, but you have langsmith 0.1.129 which is incompatible.\n",
      "\n",
      "[notice] A new release of pip is available: 24.3.1 -> 25.0\n",
      "[notice] To update, run: python.exe -m pip install --upgrade pip\n"
     ]
    }
   ],
   "source": [
    "!pip install langchain_ollama"
   ]
  },
  {
   "cell_type": "code",
   "execution_count": 25,
   "metadata": {},
   "outputs": [
    {
     "name": "stdout",
     "output_type": "stream",
     "text": [
      "Requirement already satisfied: langgraph in c:\\users\\pc\\appdata\\local\\programs\\python\\python312\\lib\\site-packages (0.2.70)\n",
      "Requirement already satisfied: ipython in c:\\users\\pc\\appdata\\roaming\\python\\python312\\site-packages (8.29.0)\n",
      "Requirement already satisfied: graphviz in c:\\users\\pc\\appdata\\local\\programs\\python\\python312\\lib\\site-packages (0.20.3)\n",
      "Requirement already satisfied: langchain-core!=0.3.0,!=0.3.1,!=0.3.10,!=0.3.11,!=0.3.12,!=0.3.13,!=0.3.14,!=0.3.15,!=0.3.16,!=0.3.17,!=0.3.18,!=0.3.19,!=0.3.2,!=0.3.20,!=0.3.21,!=0.3.22,!=0.3.3,!=0.3.4,!=0.3.5,!=0.3.6,!=0.3.7,!=0.3.8,!=0.3.9,<0.4.0,>=0.2.43 in c:\\users\\pc\\appdata\\local\\programs\\python\\python312\\lib\\site-packages (from langgraph) (0.3.34)\n",
      "Requirement already satisfied: langgraph-checkpoint<3.0.0,>=2.0.10 in c:\\users\\pc\\appdata\\local\\programs\\python\\python312\\lib\\site-packages (from langgraph) (2.0.10)\n",
      "Requirement already satisfied: langgraph-sdk<0.2.0,>=0.1.42 in c:\\users\\pc\\appdata\\local\\programs\\python\\python312\\lib\\site-packages (from langgraph) (0.1.51)\n",
      "Requirement already satisfied: decorator in c:\\users\\pc\\appdata\\roaming\\python\\python312\\site-packages (from ipython) (5.1.1)\n",
      "Requirement already satisfied: jedi>=0.16 in c:\\users\\pc\\appdata\\roaming\\python\\python312\\site-packages (from ipython) (0.19.2)\n",
      "Requirement already satisfied: matplotlib-inline in c:\\users\\pc\\appdata\\roaming\\python\\python312\\site-packages (from ipython) (0.1.7)\n",
      "Requirement already satisfied: prompt-toolkit<3.1.0,>=3.0.41 in c:\\users\\pc\\appdata\\roaming\\python\\python312\\site-packages (from ipython) (3.0.48)\n",
      "Requirement already satisfied: pygments>=2.4.0 in c:\\users\\pc\\appdata\\local\\programs\\python\\python312\\lib\\site-packages (from ipython) (2.18.0)\n",
      "Requirement already satisfied: stack-data in c:\\users\\pc\\appdata\\roaming\\python\\python312\\site-packages (from ipython) (0.6.3)\n",
      "Requirement already satisfied: traitlets>=5.13.0 in c:\\users\\pc\\appdata\\roaming\\python\\python312\\site-packages (from ipython) (5.14.3)\n",
      "Requirement already satisfied: colorama in c:\\users\\pc\\appdata\\local\\programs\\python\\python312\\lib\\site-packages (from ipython) (0.4.6)\n",
      "Requirement already satisfied: parso<0.9.0,>=0.8.4 in c:\\users\\pc\\appdata\\roaming\\python\\python312\\site-packages (from jedi>=0.16->ipython) (0.8.4)\n",
      "Requirement already satisfied: langsmith<0.4,>=0.1.125 in c:\\users\\pc\\appdata\\local\\programs\\python\\python312\\lib\\site-packages (from langchain-core!=0.3.0,!=0.3.1,!=0.3.10,!=0.3.11,!=0.3.12,!=0.3.13,!=0.3.14,!=0.3.15,!=0.3.16,!=0.3.17,!=0.3.18,!=0.3.19,!=0.3.2,!=0.3.20,!=0.3.21,!=0.3.22,!=0.3.3,!=0.3.4,!=0.3.5,!=0.3.6,!=0.3.7,!=0.3.8,!=0.3.9,<0.4.0,>=0.2.43->langgraph) (0.1.129)\n",
      "Requirement already satisfied: tenacity!=8.4.0,<10.0.0,>=8.1.0 in c:\\users\\pc\\appdata\\local\\programs\\python\\python312\\lib\\site-packages (from langchain-core!=0.3.0,!=0.3.1,!=0.3.10,!=0.3.11,!=0.3.12,!=0.3.13,!=0.3.14,!=0.3.15,!=0.3.16,!=0.3.17,!=0.3.18,!=0.3.19,!=0.3.2,!=0.3.20,!=0.3.21,!=0.3.22,!=0.3.3,!=0.3.4,!=0.3.5,!=0.3.6,!=0.3.7,!=0.3.8,!=0.3.9,<0.4.0,>=0.2.43->langgraph) (8.5.0)\n",
      "Requirement already satisfied: jsonpatch<2.0,>=1.33 in c:\\users\\pc\\appdata\\local\\programs\\python\\python312\\lib\\site-packages (from langchain-core!=0.3.0,!=0.3.1,!=0.3.10,!=0.3.11,!=0.3.12,!=0.3.13,!=0.3.14,!=0.3.15,!=0.3.16,!=0.3.17,!=0.3.18,!=0.3.19,!=0.3.2,!=0.3.20,!=0.3.21,!=0.3.22,!=0.3.3,!=0.3.4,!=0.3.5,!=0.3.6,!=0.3.7,!=0.3.8,!=0.3.9,<0.4.0,>=0.2.43->langgraph) (1.33)\n",
      "Requirement already satisfied: PyYAML>=5.3 in c:\\users\\pc\\appdata\\local\\programs\\python\\python312\\lib\\site-packages (from langchain-core!=0.3.0,!=0.3.1,!=0.3.10,!=0.3.11,!=0.3.12,!=0.3.13,!=0.3.14,!=0.3.15,!=0.3.16,!=0.3.17,!=0.3.18,!=0.3.19,!=0.3.2,!=0.3.20,!=0.3.21,!=0.3.22,!=0.3.3,!=0.3.4,!=0.3.5,!=0.3.6,!=0.3.7,!=0.3.8,!=0.3.9,<0.4.0,>=0.2.43->langgraph) (6.0.2)\n",
      "Requirement already satisfied: packaging<25,>=23.2 in c:\\users\\pc\\appdata\\local\\programs\\python\\python312\\lib\\site-packages (from langchain-core!=0.3.0,!=0.3.1,!=0.3.10,!=0.3.11,!=0.3.12,!=0.3.13,!=0.3.14,!=0.3.15,!=0.3.16,!=0.3.17,!=0.3.18,!=0.3.19,!=0.3.2,!=0.3.20,!=0.3.21,!=0.3.22,!=0.3.3,!=0.3.4,!=0.3.5,!=0.3.6,!=0.3.7,!=0.3.8,!=0.3.9,<0.4.0,>=0.2.43->langgraph) (23.2)\n",
      "Requirement already satisfied: typing-extensions>=4.7 in c:\\users\\pc\\appdata\\local\\programs\\python\\python312\\lib\\site-packages (from langchain-core!=0.3.0,!=0.3.1,!=0.3.10,!=0.3.11,!=0.3.12,!=0.3.13,!=0.3.14,!=0.3.15,!=0.3.16,!=0.3.17,!=0.3.18,!=0.3.19,!=0.3.2,!=0.3.20,!=0.3.21,!=0.3.22,!=0.3.3,!=0.3.4,!=0.3.5,!=0.3.6,!=0.3.7,!=0.3.8,!=0.3.9,<0.4.0,>=0.2.43->langgraph) (4.12.2)\n",
      "Requirement already satisfied: pydantic<3.0.0,>=2.7.4 in c:\\users\\pc\\appdata\\local\\programs\\python\\python312\\lib\\site-packages (from langchain-core!=0.3.0,!=0.3.1,!=0.3.10,!=0.3.11,!=0.3.12,!=0.3.13,!=0.3.14,!=0.3.15,!=0.3.16,!=0.3.17,!=0.3.18,!=0.3.19,!=0.3.2,!=0.3.20,!=0.3.21,!=0.3.22,!=0.3.3,!=0.3.4,!=0.3.5,!=0.3.6,!=0.3.7,!=0.3.8,!=0.3.9,<0.4.0,>=0.2.43->langgraph) (2.9.1)\n",
      "Requirement already satisfied: msgpack<2.0.0,>=1.1.0 in c:\\users\\pc\\appdata\\local\\programs\\python\\python312\\lib\\site-packages (from langgraph-checkpoint<3.0.0,>=2.0.10->langgraph) (1.1.0)\n",
      "Requirement already satisfied: httpx>=0.25.2 in c:\\users\\pc\\appdata\\local\\programs\\python\\python312\\lib\\site-packages (from langgraph-sdk<0.2.0,>=0.1.42->langgraph) (0.27.2)\n",
      "Requirement already satisfied: orjson>=3.10.1 in c:\\users\\pc\\appdata\\local\\programs\\python\\python312\\lib\\site-packages (from langgraph-sdk<0.2.0,>=0.1.42->langgraph) (3.10.7)\n",
      "Requirement already satisfied: wcwidth in c:\\users\\pc\\appdata\\roaming\\python\\python312\\site-packages (from prompt-toolkit<3.1.0,>=3.0.41->ipython) (0.2.13)\n",
      "Requirement already satisfied: executing>=1.2.0 in c:\\users\\pc\\appdata\\roaming\\python\\python312\\site-packages (from stack-data->ipython) (2.1.0)\n",
      "Requirement already satisfied: asttokens>=2.1.0 in c:\\users\\pc\\appdata\\roaming\\python\\python312\\site-packages (from stack-data->ipython) (2.4.1)\n",
      "Requirement already satisfied: pure-eval in c:\\users\\pc\\appdata\\roaming\\python\\python312\\site-packages (from stack-data->ipython) (0.2.3)\n",
      "Requirement already satisfied: six>=1.12.0 in c:\\users\\pc\\appdata\\local\\programs\\python\\python312\\lib\\site-packages (from asttokens>=2.1.0->stack-data->ipython) (1.16.0)\n",
      "Requirement already satisfied: anyio in c:\\users\\pc\\appdata\\local\\programs\\python\\python312\\lib\\site-packages (from httpx>=0.25.2->langgraph-sdk<0.2.0,>=0.1.42->langgraph) (4.6.0)\n",
      "Requirement already satisfied: certifi in c:\\users\\pc\\appdata\\local\\programs\\python\\python312\\lib\\site-packages (from httpx>=0.25.2->langgraph-sdk<0.2.0,>=0.1.42->langgraph) (2024.8.30)\n",
      "Requirement already satisfied: httpcore==1.* in c:\\users\\pc\\appdata\\local\\programs\\python\\python312\\lib\\site-packages (from httpx>=0.25.2->langgraph-sdk<0.2.0,>=0.1.42->langgraph) (1.0.5)\n",
      "Requirement already satisfied: idna in c:\\users\\pc\\appdata\\local\\programs\\python\\python312\\lib\\site-packages (from httpx>=0.25.2->langgraph-sdk<0.2.0,>=0.1.42->langgraph) (3.9)\n",
      "Requirement already satisfied: sniffio in c:\\users\\pc\\appdata\\local\\programs\\python\\python312\\lib\\site-packages (from httpx>=0.25.2->langgraph-sdk<0.2.0,>=0.1.42->langgraph) (1.3.1)\n",
      "Requirement already satisfied: h11<0.15,>=0.13 in c:\\users\\pc\\appdata\\local\\programs\\python\\python312\\lib\\site-packages (from httpcore==1.*->httpx>=0.25.2->langgraph-sdk<0.2.0,>=0.1.42->langgraph) (0.14.0)\n",
      "Requirement already satisfied: jsonpointer>=1.9 in c:\\users\\pc\\appdata\\local\\programs\\python\\python312\\lib\\site-packages (from jsonpatch<2.0,>=1.33->langchain-core!=0.3.0,!=0.3.1,!=0.3.10,!=0.3.11,!=0.3.12,!=0.3.13,!=0.3.14,!=0.3.15,!=0.3.16,!=0.3.17,!=0.3.18,!=0.3.19,!=0.3.2,!=0.3.20,!=0.3.21,!=0.3.22,!=0.3.3,!=0.3.4,!=0.3.5,!=0.3.6,!=0.3.7,!=0.3.8,!=0.3.9,<0.4.0,>=0.2.43->langgraph) (3.0.0)\n",
      "Requirement already satisfied: requests<3,>=2 in c:\\users\\pc\\appdata\\local\\programs\\python\\python312\\lib\\site-packages (from langsmith<0.4,>=0.1.125->langchain-core!=0.3.0,!=0.3.1,!=0.3.10,!=0.3.11,!=0.3.12,!=0.3.13,!=0.3.14,!=0.3.15,!=0.3.16,!=0.3.17,!=0.3.18,!=0.3.19,!=0.3.2,!=0.3.20,!=0.3.21,!=0.3.22,!=0.3.3,!=0.3.4,!=0.3.5,!=0.3.6,!=0.3.7,!=0.3.8,!=0.3.9,<0.4.0,>=0.2.43->langgraph) (2.32.3)\n",
      "Requirement already satisfied: annotated-types>=0.6.0 in c:\\users\\pc\\appdata\\local\\programs\\python\\python312\\lib\\site-packages (from pydantic<3.0.0,>=2.7.4->langchain-core!=0.3.0,!=0.3.1,!=0.3.10,!=0.3.11,!=0.3.12,!=0.3.13,!=0.3.14,!=0.3.15,!=0.3.16,!=0.3.17,!=0.3.18,!=0.3.19,!=0.3.2,!=0.3.20,!=0.3.21,!=0.3.22,!=0.3.3,!=0.3.4,!=0.3.5,!=0.3.6,!=0.3.7,!=0.3.8,!=0.3.9,<0.4.0,>=0.2.43->langgraph) (0.7.0)\n",
      "Requirement already satisfied: pydantic-core==2.23.3 in c:\\users\\pc\\appdata\\local\\programs\\python\\python312\\lib\\site-packages (from pydantic<3.0.0,>=2.7.4->langchain-core!=0.3.0,!=0.3.1,!=0.3.10,!=0.3.11,!=0.3.12,!=0.3.13,!=0.3.14,!=0.3.15,!=0.3.16,!=0.3.17,!=0.3.18,!=0.3.19,!=0.3.2,!=0.3.20,!=0.3.21,!=0.3.22,!=0.3.3,!=0.3.4,!=0.3.5,!=0.3.6,!=0.3.7,!=0.3.8,!=0.3.9,<0.4.0,>=0.2.43->langgraph) (2.23.3)\n",
      "Requirement already satisfied: charset-normalizer<4,>=2 in c:\\users\\pc\\appdata\\local\\programs\\python\\python312\\lib\\site-packages (from requests<3,>=2->langsmith<0.4,>=0.1.125->langchain-core!=0.3.0,!=0.3.1,!=0.3.10,!=0.3.11,!=0.3.12,!=0.3.13,!=0.3.14,!=0.3.15,!=0.3.16,!=0.3.17,!=0.3.18,!=0.3.19,!=0.3.2,!=0.3.20,!=0.3.21,!=0.3.22,!=0.3.3,!=0.3.4,!=0.3.5,!=0.3.6,!=0.3.7,!=0.3.8,!=0.3.9,<0.4.0,>=0.2.43->langgraph) (3.3.2)\n",
      "Requirement already satisfied: urllib3<3,>=1.21.1 in c:\\users\\pc\\appdata\\local\\programs\\python\\python312\\lib\\site-packages (from requests<3,>=2->langsmith<0.4,>=0.1.125->langchain-core!=0.3.0,!=0.3.1,!=0.3.10,!=0.3.11,!=0.3.12,!=0.3.13,!=0.3.14,!=0.3.15,!=0.3.16,!=0.3.17,!=0.3.18,!=0.3.19,!=0.3.2,!=0.3.20,!=0.3.21,!=0.3.22,!=0.3.3,!=0.3.4,!=0.3.5,!=0.3.6,!=0.3.7,!=0.3.8,!=0.3.9,<0.4.0,>=0.2.43->langgraph) (2.2.3)\n"
     ]
    },
    {
     "name": "stderr",
     "output_type": "stream",
     "text": [
      "\n",
      "[notice] A new release of pip is available: 24.3.1 -> 25.0\n",
      "[notice] To update, run: python.exe -m pip install --upgrade pip\n"
     ]
    }
   ],
   "source": [
    "! pip install langgraph ipython graphviz"
   ]
  },
  {
   "cell_type": "code",
   "execution_count": 13,
   "metadata": {},
   "outputs": [
    {
     "name": "stdout",
     "output_type": "stream",
     "text": [
      "Requirement already satisfied: langgraph in c:\\users\\pc\\appdata\\local\\programs\\python\\python312\\lib\\site-packages (0.2.70)Note: you may need to restart the kernel to use updated packages.\n",
      "\n",
      "Collecting graphviz\n",
      "  Downloading graphviz-0.20.3-py3-none-any.whl.metadata (12 kB)\n",
      "Requirement already satisfied: langchain-core!=0.3.0,!=0.3.1,!=0.3.10,!=0.3.11,!=0.3.12,!=0.3.13,!=0.3.14,!=0.3.15,!=0.3.16,!=0.3.17,!=0.3.18,!=0.3.19,!=0.3.2,!=0.3.20,!=0.3.21,!=0.3.22,!=0.3.3,!=0.3.4,!=0.3.5,!=0.3.6,!=0.3.7,!=0.3.8,!=0.3.9,<0.4.0,>=0.2.43 in c:\\users\\pc\\appdata\\local\\programs\\python\\python312\\lib\\site-packages (from langgraph) (0.3.34)\n",
      "Requirement already satisfied: langgraph-checkpoint<3.0.0,>=2.0.10 in c:\\users\\pc\\appdata\\local\\programs\\python\\python312\\lib\\site-packages (from langgraph) (2.0.10)\n",
      "Requirement already satisfied: langgraph-sdk<0.2.0,>=0.1.42 in c:\\users\\pc\\appdata\\local\\programs\\python\\python312\\lib\\site-packages (from langgraph) (0.1.51)\n",
      "Requirement already satisfied: langsmith<0.4,>=0.1.125 in c:\\users\\pc\\appdata\\local\\programs\\python\\python312\\lib\\site-packages (from langchain-core!=0.3.0,!=0.3.1,!=0.3.10,!=0.3.11,!=0.3.12,!=0.3.13,!=0.3.14,!=0.3.15,!=0.3.16,!=0.3.17,!=0.3.18,!=0.3.19,!=0.3.2,!=0.3.20,!=0.3.21,!=0.3.22,!=0.3.3,!=0.3.4,!=0.3.5,!=0.3.6,!=0.3.7,!=0.3.8,!=0.3.9,<0.4.0,>=0.2.43->langgraph) (0.1.129)\n",
      "Requirement already satisfied: tenacity!=8.4.0,<10.0.0,>=8.1.0 in c:\\users\\pc\\appdata\\local\\programs\\python\\python312\\lib\\site-packages (from langchain-core!=0.3.0,!=0.3.1,!=0.3.10,!=0.3.11,!=0.3.12,!=0.3.13,!=0.3.14,!=0.3.15,!=0.3.16,!=0.3.17,!=0.3.18,!=0.3.19,!=0.3.2,!=0.3.20,!=0.3.21,!=0.3.22,!=0.3.3,!=0.3.4,!=0.3.5,!=0.3.6,!=0.3.7,!=0.3.8,!=0.3.9,<0.4.0,>=0.2.43->langgraph) (8.5.0)\n",
      "Requirement already satisfied: jsonpatch<2.0,>=1.33 in c:\\users\\pc\\appdata\\local\\programs\\python\\python312\\lib\\site-packages (from langchain-core!=0.3.0,!=0.3.1,!=0.3.10,!=0.3.11,!=0.3.12,!=0.3.13,!=0.3.14,!=0.3.15,!=0.3.16,!=0.3.17,!=0.3.18,!=0.3.19,!=0.3.2,!=0.3.20,!=0.3.21,!=0.3.22,!=0.3.3,!=0.3.4,!=0.3.5,!=0.3.6,!=0.3.7,!=0.3.8,!=0.3.9,<0.4.0,>=0.2.43->langgraph) (1.33)\n",
      "Requirement already satisfied: PyYAML>=5.3 in c:\\users\\pc\\appdata\\local\\programs\\python\\python312\\lib\\site-packages (from langchain-core!=0.3.0,!=0.3.1,!=0.3.10,!=0.3.11,!=0.3.12,!=0.3.13,!=0.3.14,!=0.3.15,!=0.3.16,!=0.3.17,!=0.3.18,!=0.3.19,!=0.3.2,!=0.3.20,!=0.3.21,!=0.3.22,!=0.3.3,!=0.3.4,!=0.3.5,!=0.3.6,!=0.3.7,!=0.3.8,!=0.3.9,<0.4.0,>=0.2.43->langgraph) (6.0.2)\n",
      "Requirement already satisfied: packaging<25,>=23.2 in c:\\users\\pc\\appdata\\local\\programs\\python\\python312\\lib\\site-packages (from langchain-core!=0.3.0,!=0.3.1,!=0.3.10,!=0.3.11,!=0.3.12,!=0.3.13,!=0.3.14,!=0.3.15,!=0.3.16,!=0.3.17,!=0.3.18,!=0.3.19,!=0.3.2,!=0.3.20,!=0.3.21,!=0.3.22,!=0.3.3,!=0.3.4,!=0.3.5,!=0.3.6,!=0.3.7,!=0.3.8,!=0.3.9,<0.4.0,>=0.2.43->langgraph) (23.2)\n",
      "Requirement already satisfied: typing-extensions>=4.7 in c:\\users\\pc\\appdata\\local\\programs\\python\\python312\\lib\\site-packages (from langchain-core!=0.3.0,!=0.3.1,!=0.3.10,!=0.3.11,!=0.3.12,!=0.3.13,!=0.3.14,!=0.3.15,!=0.3.16,!=0.3.17,!=0.3.18,!=0.3.19,!=0.3.2,!=0.3.20,!=0.3.21,!=0.3.22,!=0.3.3,!=0.3.4,!=0.3.5,!=0.3.6,!=0.3.7,!=0.3.8,!=0.3.9,<0.4.0,>=0.2.43->langgraph) (4.12.2)\n",
      "Requirement already satisfied: pydantic<3.0.0,>=2.7.4 in c:\\users\\pc\\appdata\\local\\programs\\python\\python312\\lib\\site-packages (from langchain-core!=0.3.0,!=0.3.1,!=0.3.10,!=0.3.11,!=0.3.12,!=0.3.13,!=0.3.14,!=0.3.15,!=0.3.16,!=0.3.17,!=0.3.18,!=0.3.19,!=0.3.2,!=0.3.20,!=0.3.21,!=0.3.22,!=0.3.3,!=0.3.4,!=0.3.5,!=0.3.6,!=0.3.7,!=0.3.8,!=0.3.9,<0.4.0,>=0.2.43->langgraph) (2.9.1)\n",
      "Requirement already satisfied: msgpack<2.0.0,>=1.1.0 in c:\\users\\pc\\appdata\\local\\programs\\python\\python312\\lib\\site-packages (from langgraph-checkpoint<3.0.0,>=2.0.10->langgraph) (1.1.0)\n",
      "Requirement already satisfied: httpx>=0.25.2 in c:\\users\\pc\\appdata\\local\\programs\\python\\python312\\lib\\site-packages (from langgraph-sdk<0.2.0,>=0.1.42->langgraph) (0.27.2)\n",
      "Requirement already satisfied: orjson>=3.10.1 in c:\\users\\pc\\appdata\\local\\programs\\python\\python312\\lib\\site-packages (from langgraph-sdk<0.2.0,>=0.1.42->langgraph) (3.10.7)\n",
      "Requirement already satisfied: anyio in c:\\users\\pc\\appdata\\local\\programs\\python\\python312\\lib\\site-packages (from httpx>=0.25.2->langgraph-sdk<0.2.0,>=0.1.42->langgraph) (4.6.0)\n",
      "Requirement already satisfied: certifi in c:\\users\\pc\\appdata\\local\\programs\\python\\python312\\lib\\site-packages (from httpx>=0.25.2->langgraph-sdk<0.2.0,>=0.1.42->langgraph) (2024.8.30)\n",
      "Requirement already satisfied: httpcore==1.* in c:\\users\\pc\\appdata\\local\\programs\\python\\python312\\lib\\site-packages (from httpx>=0.25.2->langgraph-sdk<0.2.0,>=0.1.42->langgraph) (1.0.5)\n",
      "Requirement already satisfied: idna in c:\\users\\pc\\appdata\\local\\programs\\python\\python312\\lib\\site-packages (from httpx>=0.25.2->langgraph-sdk<0.2.0,>=0.1.42->langgraph) (3.9)\n",
      "Requirement already satisfied: sniffio in c:\\users\\pc\\appdata\\local\\programs\\python\\python312\\lib\\site-packages (from httpx>=0.25.2->langgraph-sdk<0.2.0,>=0.1.42->langgraph) (1.3.1)\n",
      "Requirement already satisfied: h11<0.15,>=0.13 in c:\\users\\pc\\appdata\\local\\programs\\python\\python312\\lib\\site-packages (from httpcore==1.*->httpx>=0.25.2->langgraph-sdk<0.2.0,>=0.1.42->langgraph) (0.14.0)\n",
      "Requirement already satisfied: jsonpointer>=1.9 in c:\\users\\pc\\appdata\\local\\programs\\python\\python312\\lib\\site-packages (from jsonpatch<2.0,>=1.33->langchain-core!=0.3.0,!=0.3.1,!=0.3.10,!=0.3.11,!=0.3.12,!=0.3.13,!=0.3.14,!=0.3.15,!=0.3.16,!=0.3.17,!=0.3.18,!=0.3.19,!=0.3.2,!=0.3.20,!=0.3.21,!=0.3.22,!=0.3.3,!=0.3.4,!=0.3.5,!=0.3.6,!=0.3.7,!=0.3.8,!=0.3.9,<0.4.0,>=0.2.43->langgraph) (3.0.0)\n",
      "Requirement already satisfied: requests<3,>=2 in c:\\users\\pc\\appdata\\local\\programs\\python\\python312\\lib\\site-packages (from langsmith<0.4,>=0.1.125->langchain-core!=0.3.0,!=0.3.1,!=0.3.10,!=0.3.11,!=0.3.12,!=0.3.13,!=0.3.14,!=0.3.15,!=0.3.16,!=0.3.17,!=0.3.18,!=0.3.19,!=0.3.2,!=0.3.20,!=0.3.21,!=0.3.22,!=0.3.3,!=0.3.4,!=0.3.5,!=0.3.6,!=0.3.7,!=0.3.8,!=0.3.9,<0.4.0,>=0.2.43->langgraph) (2.32.3)\n",
      "Requirement already satisfied: annotated-types>=0.6.0 in c:\\users\\pc\\appdata\\local\\programs\\python\\python312\\lib\\site-packages (from pydantic<3.0.0,>=2.7.4->langchain-core!=0.3.0,!=0.3.1,!=0.3.10,!=0.3.11,!=0.3.12,!=0.3.13,!=0.3.14,!=0.3.15,!=0.3.16,!=0.3.17,!=0.3.18,!=0.3.19,!=0.3.2,!=0.3.20,!=0.3.21,!=0.3.22,!=0.3.3,!=0.3.4,!=0.3.5,!=0.3.6,!=0.3.7,!=0.3.8,!=0.3.9,<0.4.0,>=0.2.43->langgraph) (0.7.0)\n",
      "Requirement already satisfied: pydantic-core==2.23.3 in c:\\users\\pc\\appdata\\local\\programs\\python\\python312\\lib\\site-packages (from pydantic<3.0.0,>=2.7.4->langchain-core!=0.3.0,!=0.3.1,!=0.3.10,!=0.3.11,!=0.3.12,!=0.3.13,!=0.3.14,!=0.3.15,!=0.3.16,!=0.3.17,!=0.3.18,!=0.3.19,!=0.3.2,!=0.3.20,!=0.3.21,!=0.3.22,!=0.3.3,!=0.3.4,!=0.3.5,!=0.3.6,!=0.3.7,!=0.3.8,!=0.3.9,<0.4.0,>=0.2.43->langgraph) (2.23.3)\n",
      "Requirement already satisfied: charset-normalizer<4,>=2 in c:\\users\\pc\\appdata\\local\\programs\\python\\python312\\lib\\site-packages (from requests<3,>=2->langsmith<0.4,>=0.1.125->langchain-core!=0.3.0,!=0.3.1,!=0.3.10,!=0.3.11,!=0.3.12,!=0.3.13,!=0.3.14,!=0.3.15,!=0.3.16,!=0.3.17,!=0.3.18,!=0.3.19,!=0.3.2,!=0.3.20,!=0.3.21,!=0.3.22,!=0.3.3,!=0.3.4,!=0.3.5,!=0.3.6,!=0.3.7,!=0.3.8,!=0.3.9,<0.4.0,>=0.2.43->langgraph) (3.3.2)\n",
      "Requirement already satisfied: urllib3<3,>=1.21.1 in c:\\users\\pc\\appdata\\local\\programs\\python\\python312\\lib\\site-packages (from requests<3,>=2->langsmith<0.4,>=0.1.125->langchain-core!=0.3.0,!=0.3.1,!=0.3.10,!=0.3.11,!=0.3.12,!=0.3.13,!=0.3.14,!=0.3.15,!=0.3.16,!=0.3.17,!=0.3.18,!=0.3.19,!=0.3.2,!=0.3.20,!=0.3.21,!=0.3.22,!=0.3.3,!=0.3.4,!=0.3.5,!=0.3.6,!=0.3.7,!=0.3.8,!=0.3.9,<0.4.0,>=0.2.43->langgraph) (2.2.3)\n",
      "Downloading graphviz-0.20.3-py3-none-any.whl (47 kB)\n",
      "Installing collected packages: graphviz\n",
      "Successfully installed graphviz-0.20.3\n"
     ]
    },
    {
     "name": "stderr",
     "output_type": "stream",
     "text": [
      "\n",
      "[notice] A new release of pip is available: 24.3.1 -> 25.0\n",
      "[notice] To update, run: python.exe -m pip install --upgrade pip\n"
     ]
    }
   ],
   "source": [
    "pip install langgraph graphviz"
   ]
  },
  {
   "cell_type": "code",
   "execution_count": 3,
   "metadata": {},
   "outputs": [],
   "source": [
    "from langchain_ollama import ChatOllama"
   ]
  },
  {
   "cell_type": "code",
   "execution_count": null,
   "metadata": {},
   "outputs": [],
   "source": []
  },
  {
   "cell_type": "code",
   "execution_count": 22,
   "metadata": {},
   "outputs": [
    {
     "name": "stdout",
     "output_type": "stream",
     "text": [
      "Requirement already satisfied: ipython in c:\\users\\pc\\appdata\\roaming\\python\\python312\\site-packages (8.29.0)\n",
      "Requirement already satisfied: decorator in c:\\users\\pc\\appdata\\roaming\\python\\python312\\site-packages (from ipython) (5.1.1)\n",
      "Requirement already satisfied: jedi>=0.16 in c:\\users\\pc\\appdata\\roaming\\python\\python312\\site-packages (from ipython) (0.19.2)\n",
      "Requirement already satisfied: matplotlib-inline in c:\\users\\pc\\appdata\\roaming\\python\\python312\\site-packages (from ipython) (0.1.7)\n",
      "Requirement already satisfied: prompt-toolkit<3.1.0,>=3.0.41 in c:\\users\\pc\\appdata\\roaming\\python\\python312\\site-packages (from ipython) (3.0.48)\n",
      "Requirement already satisfied: pygments>=2.4.0 in c:\\users\\pc\\appdata\\local\\programs\\python\\python312\\lib\\site-packages (from ipython) (2.18.0)\n",
      "Requirement already satisfied: stack-data in c:\\users\\pc\\appdata\\roaming\\python\\python312\\site-packages (from ipython) (0.6.3)\n",
      "Requirement already satisfied: traitlets>=5.13.0 in c:\\users\\pc\\appdata\\roaming\\python\\python312\\site-packages (from ipython) (5.14.3)\n",
      "Requirement already satisfied: colorama in c:\\users\\pc\\appdata\\local\\programs\\python\\python312\\lib\\site-packages (from ipython) (0.4.6)\n",
      "Requirement already satisfied: parso<0.9.0,>=0.8.4 in c:\\users\\pc\\appdata\\roaming\\python\\python312\\site-packages (from jedi>=0.16->ipython) (0.8.4)\n",
      "Requirement already satisfied: wcwidth in c:\\users\\pc\\appdata\\roaming\\python\\python312\\site-packages (from prompt-toolkit<3.1.0,>=3.0.41->ipython) (0.2.13)\n",
      "Requirement already satisfied: executing>=1.2.0 in c:\\users\\pc\\appdata\\roaming\\python\\python312\\site-packages (from stack-data->ipython) (2.1.0)\n",
      "Requirement already satisfied: asttokens>=2.1.0 in c:\\users\\pc\\appdata\\roaming\\python\\python312\\site-packages (from stack-data->ipython) (2.4.1)\n",
      "Requirement already satisfied: pure-eval in c:\\users\\pc\\appdata\\roaming\\python\\python312\\site-packages (from stack-data->ipython) (0.2.3)\n",
      "Requirement already satisfied: six>=1.12.0 in c:\\users\\pc\\appdata\\local\\programs\\python\\python312\\lib\\site-packages (from asttokens>=2.1.0->stack-data->ipython) (1.16.0)\n",
      "Note: you may need to restart the kernel to use updated packages.\n"
     ]
    },
    {
     "name": "stderr",
     "output_type": "stream",
     "text": [
      "\n",
      "[notice] A new release of pip is available: 24.3.1 -> 25.0\n",
      "[notice] To update, run: python.exe -m pip install --upgrade pip\n"
     ]
    }
   ],
   "source": [
    "pip install ipython\n"
   ]
  },
  {
   "cell_type": "code",
   "execution_count": 26,
   "metadata": {},
   "outputs": [],
   "source": [
    "def function_1(input_1):\n",
    "    return input_1 + \"Hi\"\n",
    "def function_2(input_2):\n",
    "    return input_2+\"there\""
   ]
  },
  {
   "cell_type": "code",
   "execution_count": 31,
   "metadata": {},
   "outputs": [
    {
     "data": {
      "image/png": "[encoded data removed]",
      "text/plain": [
       "<IPython.core.display.Image object>"
      ]
     },
     "metadata": {},
     "output_type": "display_data"
    },
    {
     "data": {
      "text/plain": [
       "'Hello! Hi this is func1 this is func2'"
      ]
     },
     "execution_count": 31,
     "metadata": {},
     "output_type": "execute_result"
    }
   ],
   "source": [
    "from IPython.display import Image, display  # Note: IPython, not Ipython\n",
    "from langgraph.graph import Graph\n",
    "\n",
    "def function_1(input_1):\n",
    "    return input_1 + \" Hi this is func1\"\n",
    "\n",
    "def function_2(input_2):\n",
    "    return input_2 + \" this is func2\"\n",
    "\n",
    "workflow = Graph()\n",
    "\n",
    "workflow.add_node(\"node_1\", function_1)\n",
    "workflow.add_node(\"node_2\", function_2)\n",
    "\n",
    "workflow.add_edge(\"node_1\", \"node_2\")\n",
    "\n",
    "workflow.set_entry_point(\"node_1\")\n",
    "workflow.set_finish_point(\"node_2\")\n",
    "\n",
    "app = workflow.compile()\n",
    "\n",
    "display(Image(app.get_graph().draw_mermaid_png()))\n",
    "\n",
    "app.invoke(\"Hello!\")"
   ]
  },
  {
   "cell_type": "code",
   "execution_count": 32,
   "metadata": {},
   "outputs": [
    {
     "name": "stdout",
     "output_type": "stream",
     "text": [
      "Input: Hello\n",
      "Output from node 'node_1': Hello Hi this is func1\n",
      "--------------------------------------------------\n",
      "Hello Hi this is func1\n",
      "--------------------------------------------------\n",
      "Output from node 'node_2': Hello Hi this is func1 this is func2\n",
      "--------------------------------------------------\n",
      "Hello Hi this is func1 this is func2\n",
      "--------------------------------------------------\n"
     ]
    }
   ],
   "source": [
    "input = \"Hello\"\n",
    "print(f\"Input: {input}\")\n",
    "for output in app.stream(input):\n",
    "    for key, value in output.items():\n",
    "        print(f\"Output from node '{key}': {value}\")\n",
    "        print(\"-\" * 50)\n",
    "        print(value)\n",
    "    print(\"-\" * 50)"
   ]
  },
  {
   "cell_type": "markdown",
   "metadata": {},
   "source": [
    "# Adding LLM Call"
   ]
  },
  {
   "cell_type": "code",
   "execution_count": 1,
   "metadata": {},
   "outputs": [
    {
     "name": "stdout",
     "output_type": "stream",
     "text": [
      "Requirement already satisfied: langchain_ollama in c:\\users\\pc\\appdata\\local\\programs\\python\\python312\\lib\\site-packages (0.2.3)\n",
      "Requirement already satisfied: langchain in c:\\users\\pc\\appdata\\local\\programs\\python\\python312\\lib\\site-packages (0.3.17)\n",
      "Requirement already satisfied: langchain_community in c:\\users\\pc\\appdata\\local\\programs\\python\\python312\\lib\\site-packages (0.3.16)\n",
      "Requirement already satisfied: langchain-core<0.4.0,>=0.3.33 in c:\\users\\pc\\appdata\\local\\programs\\python\\python312\\lib\\site-packages (from langchain_ollama) (0.3.34)\n",
      "Requirement already satisfied: ollama<1,>=0.4.4 in c:\\users\\pc\\appdata\\local\\programs\\python\\python312\\lib\\site-packages (from langchain_ollama) (0.4.7)\n",
      "Requirement already satisfied: PyYAML>=5.3 in c:\\users\\pc\\appdata\\local\\programs\\python\\python312\\lib\\site-packages (from langchain) (6.0.2)\n",
      "Requirement already satisfied: SQLAlchemy<3,>=1.4 in c:\\users\\pc\\appdata\\local\\programs\\python\\python312\\lib\\site-packages (from langchain) (2.0.35)\n",
      "Requirement already satisfied: aiohttp<4.0.0,>=3.8.3 in c:\\users\\pc\\appdata\\local\\programs\\python\\python312\\lib\\site-packages (from langchain) (3.10.6)\n",
      "Requirement already satisfied: langchain-text-splitters<0.4.0,>=0.3.3 in c:\\users\\pc\\appdata\\local\\programs\\python\\python312\\lib\\site-packages (from langchain) (0.3.6)\n",
      "Requirement already satisfied: langsmith<0.4,>=0.1.17 in c:\\users\\pc\\appdata\\local\\programs\\python\\python312\\lib\\site-packages (from langchain) (0.1.129)\n",
      "Requirement already satisfied: numpy<3,>=1.26.2 in c:\\users\\pc\\appdata\\local\\programs\\python\\python312\\lib\\site-packages (from langchain) (1.26.4)\n",
      "Requirement already satisfied: pydantic<3.0.0,>=2.7.4 in c:\\users\\pc\\appdata\\local\\programs\\python\\python312\\lib\\site-packages (from langchain) (2.9.1)\n",
      "Requirement already satisfied: requests<3,>=2 in c:\\users\\pc\\appdata\\local\\programs\\python\\python312\\lib\\site-packages (from langchain) (2.32.3)\n",
      "Requirement already satisfied: tenacity!=8.4.0,<10,>=8.1.0 in c:\\users\\pc\\appdata\\local\\programs\\python\\python312\\lib\\site-packages (from langchain) (8.5.0)\n",
      "Requirement already satisfied: dataclasses-json<0.7,>=0.5.7 in c:\\users\\pc\\appdata\\local\\programs\\python\\python312\\lib\\site-packages (from langchain_community) (0.6.7)\n",
      "Requirement already satisfied: httpx-sse<0.5.0,>=0.4.0 in c:\\users\\pc\\appdata\\local\\programs\\python\\python312\\lib\\site-packages (from langchain_community) (0.4.0)\n",
      "Requirement already satisfied: pydantic-settings<3.0.0,>=2.4.0 in c:\\users\\pc\\appdata\\local\\programs\\python\\python312\\lib\\site-packages (from langchain_community) (2.7.1)\n",
      "Requirement already satisfied: aiohappyeyeballs>=2.3.0 in c:\\users\\pc\\appdata\\local\\programs\\python\\python312\\lib\\site-packages (from aiohttp<4.0.0,>=3.8.3->langchain) (2.4.0)\n",
      "Requirement already satisfied: aiosignal>=1.1.2 in c:\\users\\pc\\appdata\\local\\programs\\python\\python312\\lib\\site-packages (from aiohttp<4.0.0,>=3.8.3->langchain) (1.3.1)\n",
      "Requirement already satisfied: attrs>=17.3.0 in c:\\users\\pc\\appdata\\local\\programs\\python\\python312\\lib\\site-packages (from aiohttp<4.0.0,>=3.8.3->langchain) (24.2.0)\n",
      "Requirement already satisfied: frozenlist>=1.1.1 in c:\\users\\pc\\appdata\\local\\programs\\python\\python312\\lib\\site-packages (from aiohttp<4.0.0,>=3.8.3->langchain) (1.4.1)\n",
      "Requirement already satisfied: multidict<7.0,>=4.5 in c:\\users\\pc\\appdata\\local\\programs\\python\\python312\\lib\\site-packages (from aiohttp<4.0.0,>=3.8.3->langchain) (6.1.0)\n",
      "Requirement already satisfied: yarl<2.0,>=1.12.0 in c:\\users\\pc\\appdata\\local\\programs\\python\\python312\\lib\\site-packages (from aiohttp<4.0.0,>=3.8.3->langchain) (1.12.1)\n",
      "Requirement already satisfied: marshmallow<4.0.0,>=3.18.0 in c:\\users\\pc\\appdata\\local\\programs\\python\\python312\\lib\\site-packages (from dataclasses-json<0.7,>=0.5.7->langchain_community) (3.22.0)\n",
      "Requirement already satisfied: typing-inspect<1,>=0.4.0 in c:\\users\\pc\\appdata\\local\\programs\\python\\python312\\lib\\site-packages (from dataclasses-json<0.7,>=0.5.7->langchain_community) (0.9.0)\n",
      "Requirement already satisfied: jsonpatch<2.0,>=1.33 in c:\\users\\pc\\appdata\\local\\programs\\python\\python312\\lib\\site-packages (from langchain-core<0.4.0,>=0.3.33->langchain_ollama) (1.33)\n",
      "Requirement already satisfied: packaging<25,>=23.2 in c:\\users\\pc\\appdata\\local\\programs\\python\\python312\\lib\\site-packages (from langchain-core<0.4.0,>=0.3.33->langchain_ollama) (23.2)\n",
      "Requirement already satisfied: typing-extensions>=4.7 in c:\\users\\pc\\appdata\\local\\programs\\python\\python312\\lib\\site-packages (from langchain-core<0.4.0,>=0.3.33->langchain_ollama) (4.12.2)\n",
      "Requirement already satisfied: httpx<1,>=0.23.0 in c:\\users\\pc\\appdata\\local\\programs\\python\\python312\\lib\\site-packages (from langsmith<0.4,>=0.1.17->langchain) (0.27.2)\n",
      "Requirement already satisfied: orjson<4.0.0,>=3.9.14 in c:\\users\\pc\\appdata\\local\\programs\\python\\python312\\lib\\site-packages (from langsmith<0.4,>=0.1.17->langchain) (3.10.7)\n",
      "Requirement already satisfied: annotated-types>=0.6.0 in c:\\users\\pc\\appdata\\local\\programs\\python\\python312\\lib\\site-packages (from pydantic<3.0.0,>=2.7.4->langchain) (0.7.0)\n",
      "Requirement already satisfied: pydantic-core==2.23.3 in c:\\users\\pc\\appdata\\local\\programs\\python\\python312\\lib\\site-packages (from pydantic<3.0.0,>=2.7.4->langchain) (2.23.3)\n",
      "Requirement already satisfied: python-dotenv>=0.21.0 in c:\\users\\pc\\appdata\\local\\programs\\python\\python312\\lib\\site-packages (from pydantic-settings<3.0.0,>=2.4.0->langchain_community) (1.0.1)\n",
      "Requirement already satisfied: charset-normalizer<4,>=2 in c:\\users\\pc\\appdata\\local\\programs\\python\\python312\\lib\\site-packages (from requests<3,>=2->langchain) (3.3.2)\n",
      "Requirement already satisfied: idna<4,>=2.5 in c:\\users\\pc\\appdata\\local\\programs\\python\\python312\\lib\\site-packages (from requests<3,>=2->langchain) (3.9)\n",
      "Requirement already satisfied: urllib3<3,>=1.21.1 in c:\\users\\pc\\appdata\\local\\programs\\python\\python312\\lib\\site-packages (from requests<3,>=2->langchain) (2.2.3)\n",
      "Requirement already satisfied: certifi>=2017.4.17 in c:\\users\\pc\\appdata\\local\\programs\\python\\python312\\lib\\site-packages (from requests<3,>=2->langchain) (2024.8.30)\n",
      "Requirement already satisfied: greenlet!=0.4.17 in c:\\users\\pc\\appdata\\local\\programs\\python\\python312\\lib\\site-packages (from SQLAlchemy<3,>=1.4->langchain) (3.1.1)\n",
      "Requirement already satisfied: anyio in c:\\users\\pc\\appdata\\local\\programs\\python\\python312\\lib\\site-packages (from httpx<1,>=0.23.0->langsmith<0.4,>=0.1.17->langchain) (4.6.0)\n",
      "Requirement already satisfied: httpcore==1.* in c:\\users\\pc\\appdata\\local\\programs\\python\\python312\\lib\\site-packages (from httpx<1,>=0.23.0->langsmith<0.4,>=0.1.17->langchain) (1.0.5)\n",
      "Requirement already satisfied: sniffio in c:\\users\\pc\\appdata\\local\\programs\\python\\python312\\lib\\site-packages (from httpx<1,>=0.23.0->langsmith<0.4,>=0.1.17->langchain) (1.3.1)\n",
      "Requirement already satisfied: h11<0.15,>=0.13 in c:\\users\\pc\\appdata\\local\\programs\\python\\python312\\lib\\site-packages (from httpcore==1.*->httpx<1,>=0.23.0->langsmith<0.4,>=0.1.17->langchain) (0.14.0)\n",
      "Requirement already satisfied: jsonpointer>=1.9 in c:\\users\\pc\\appdata\\local\\programs\\python\\python312\\lib\\site-packages (from jsonpatch<2.0,>=1.33->langchain-core<0.4.0,>=0.3.33->langchain_ollama) (3.0.0)\n",
      "Requirement already satisfied: mypy-extensions>=0.3.0 in c:\\users\\pc\\appdata\\local\\programs\\python\\python312\\lib\\site-packages (from typing-inspect<1,>=0.4.0->dataclasses-json<0.7,>=0.5.7->langchain_community) (1.0.0)\n"
     ]
    },
    {
     "name": "stderr",
     "output_type": "stream",
     "text": [
      "\n",
      "[notice] A new release of pip is available: 24.3.1 -> 25.0\n",
      "[notice] To update, run: python.exe -m pip install --upgrade pip\n"
     ]
    }
   ],
   "source": [
    "!pip install langchain_ollama langchain langchain_community"
   ]
  },
  {
   "cell_type": "code",
   "execution_count": null,
   "metadata": {},
   "outputs": [
    {
     "data": {
      "text/plain": [
       "AIMessage(content='<think>\\n\\n</think>\\n\\nHello! How can I assist you today? 😊', additional_kwargs={}, response_metadata={'model': 'deepseek-r1:1.5b', 'created_at': '2025-02-07T06:10:41.7553781Z', 'done': True, 'done_reason': 'stop', 'total_duration': 597520100, 'load_duration': 16921900, 'prompt_eval_count': 4, 'prompt_eval_duration': 36000000, 'eval_count': 16, 'eval_duration': 543000000, 'message': Message(role='assistant', content='', images=None, tool_calls=None)}, id='run-c07ad4ff-6c96-4467-8045-eb76efddc266-0', usage_metadata={'input_tokens': 4, 'output_tokens': 16, 'total_tokens': 20})"
      ]
     },
     "execution_count": 7,
     "metadata": {},
     "output_type": "execute_result"
    }
   ],
   "source": [
    "from langchain_ollama import ChatOllama\n",
    "\n",
    "llm = ChatOllama(\n",
    "    model=\"deepseek-r1:1.5b\",\n",
    "    temperature=0\n",
    ")\n",
    "\n",
    "llm.invoke(\"Hello\")\n"
   ]
  },
  {
   "cell_type": "code",
   "execution_count": 8,
   "metadata": {},
   "outputs": [
    {
     "data": {
      "text/plain": [
       "'<think>\\n\\n</think>\\n\\nHello! How can I assist you today? 😊'"
      ]
     },
     "execution_count": 8,
     "metadata": {},
     "output_type": "execute_result"
    }
   ],
   "source": [
    "llm.invoke(\"Hello\").content"
   ]
  },
  {
   "cell_type": "code",
   "execution_count": 23,
   "metadata": {},
   "outputs": [
    {
     "data": {
      "image/png": "[encoded data removed]",
      "text/plain": [
       "<IPython.core.display.Image object>"
      ]
     },
     "metadata": {},
     "output_type": "display_data"
    },
    {
     "name": "stdout",
     "output_type": "stream",
     "text": [
      "first node output= <think>\n",
      "\n",
      "</think>\n",
      "\n",
      "Hello! How can I assist you today? 😊\n"
     ]
    },
    {
     "data": {
      "text/plain": [
       "'<think>\\n\\n</think>\\n\\nHello! How can I assist you today? 😊I am alamin'"
      ]
     },
     "execution_count": 23,
     "metadata": {},
     "output_type": "execute_result"
    }
   ],
   "source": [
    "from IPython.display import Image, display  # Note: IPython, not Ipython\n",
    "from langgraph.graph import Graph\n",
    "from langchain_ollama import ChatOllama\n",
    "\n",
    "llm = ChatOllama(\n",
    "    model=\"deepseek-r1:1.5b\",\n",
    "    temperature=0\n",
    ")\n",
    "\n",
    "def function_1(input_1):\n",
    "    x=llm.invoke(input_1).content\n",
    "    print(f\"first node output= {x}\")\n",
    "    return x\n",
    "\n",
    "def function_2(input_2):\n",
    "    y=input_2 + \"I am alamin\"\n",
    "    # print(f\"final output= {y}\")\n",
    "    return y\n",
    "\n",
    "workflow = Graph()\n",
    "\n",
    "workflow.add_node(\"node_1\", function_1)\n",
    "workflow.add_node(\"node_2\", function_2)\n",
    "\n",
    "workflow.add_edge(\"node_1\", \"node_2\")\n",
    "\n",
    "workflow.set_entry_point(\"node_1\")\n",
    "workflow.set_finish_point(\"node_2\")\n",
    "\n",
    "app = workflow.compile()\n",
    "\n",
    "display(Image(app.get_graph().draw_mermaid_png()))\n",
    "\n",
    "app.invoke(\"Hello!\")"
   ]
  },
  {
   "cell_type": "code",
   "execution_count": 24,
   "metadata": {},
   "outputs": [
    {
     "name": "stdout",
     "output_type": "stream",
     "text": [
      "Input: Hello\n",
      "first node output= <think>\n",
      "\n",
      "</think>\n",
      "\n",
      "Hello! How can I assist you today? 😊\n",
      "Output from node 'node_1': <think>\n",
      "\n",
      "</think>\n",
      "\n",
      "Hello! How can I assist you today? 😊\n",
      "--------------------------------------------------\n",
      "<think>\n",
      "\n",
      "</think>\n",
      "\n",
      "Hello! How can I assist you today? 😊\n",
      "--------------------------------------------------\n",
      "Output from node 'node_2': <think>\n",
      "\n",
      "</think>\n",
      "\n",
      "Hello! How can I assist you today? 😊I am alamin\n",
      "--------------------------------------------------\n",
      "<think>\n",
      "\n",
      "</think>\n",
      "\n",
      "Hello! How can I assist you today? 😊I am alamin\n",
      "--------------------------------------------------\n"
     ]
    }
   ],
   "source": [
    "input = \"Hello\"\n",
    "print(f\"Input: {input}\")\n",
    "for output in app.stream(input):\n",
    "    for key, value in output.items():\n",
    "        print(f\"Output from node '{key}': {value}\")\n",
    "        print(\"-\" * 50)\n",
    "        print(value)\n",
    "    print(\"-\" * 50)"
   ]
  },
  {
   "cell_type": "markdown",
   "metadata": {},
   "source": [
    "# **Parse City name**"
   ]
  },
  {
   "cell_type": "code",
   "execution_count": 2,
   "metadata": {},
   "outputs": [
    {
     "data": {
      "image/png": "[encoded data removed]",
      "text/plain": [
       "<IPython.core.display.Image object>"
      ]
     },
     "metadata": {},
     "output_type": "display_data"
    }
   ],
   "source": [
    "from IPython.display import Image, display  # Note: IPython, not Ipython\n",
    "from langgraph.graph import Graph\n",
    "from langchain_ollama import ChatOllama\n",
    "\n",
    "llm = ChatOllama(\n",
    "    model=\"deepseek-r1:1.5b\",\n",
    "    temperature=0\n",
    ")\n",
    "\n",
    "def function_1(input_1):\n",
    "    extract_city = \"Your task is to provide the only city name based on the user' input.\\\n",
    "        Nothing else. Only the city name that the user mentioned. Following is\\\n",
    "        the user input: \"+input_1\n",
    "    return llm.invoke(extract_city).content\n",
    "\n",
    "def function_2(input_2):\n",
    "    return \"The city name is: \" + input_2\n",
    "\n",
    "workflow = Graph()\n",
    "\n",
    "workflow.add_node(\"node_1\", function_1)\n",
    "workflow.add_node(\"node_2\", function_2)\n",
    "\n",
    "workflow.add_edge(\"node_1\", \"node_2\")\n",
    "\n",
    "workflow.set_entry_point(\"node_1\")\n",
    "workflow.set_finish_point(\"node_2\")\n",
    "\n",
    "app = workflow.compile()\n",
    "\n",
    "\n",
    "\n",
    "display(Image(app.get_graph().draw_mermaid_png()))\n",
    "\n",
    "# app.invoke(\"What is the weather in Dhaka?\")"
   ]
  },
  {
   "cell_type": "code",
   "execution_count": 4,
   "metadata": {},
   "outputs": [
    {
     "data": {
      "text/plain": [
       "'The city name is: <think>\\nOkay, so I need to figure out what the user\\'s favorite city is based on their input. The user just said, \"What is the weather in Dhaka?\" Hmm, that doesn\\'t directly answer anything about a city name. Maybe they\\'re trying to get me to think of a city related to Dhaka? But I\\'m not sure how to connect those two things.\\n\\nWait, maybe it\\'s a play on words or something else. Let me consider if there are any cities named after people from Dhaka or related to weather. I know Dhaka is the capital of Bangladesh, so perhaps they\\'re referring to a city in Bangladesh. But without more context, it\\'s hard to pinpoint exactly.\\n\\nI should probably ask for clarification because the user didn\\'t provide enough information about their favorite city. They might be testing if I can recognize patterns or make assumptions based on limited data. Without knowing what they\\'re interested in—like Dhaka itself, a weather-related city, or something else—the answer is tricky.\\n\\nSo, to help them, I should ask for more details about the user\\'s favorite city. That way, I can give a better answer tailored to their specific needs.\\n</think>\\n\\nTo determine the user\\'s favorite city based on their input, it would be helpful to know what they are referring to—whether it\\'s Dhaka, a weather-related city, or something else entirely. Please provide more context so I can assist effectively.'"
      ]
     },
     "execution_count": 4,
     "metadata": {},
     "output_type": "execute_result"
    }
   ],
   "source": [
    "app.invoke(\"What is the weather in Dhaka?\")"
   ]
  },
  {
   "cell_type": "markdown",
   "metadata": {},
   "source": [
    "# **Search Agent**"
   ]
  },
  {
   "cell_type": "code",
   "execution_count": 5,
   "metadata": {},
   "outputs": [
    {
     "name": "stdout",
     "output_type": "stream",
     "text": [
      "Requirement already satisfied: tavily-python in c:\\users\\pc\\appdata\\local\\programs\\python\\python312\\lib\\site-packages (0.5.1)\n",
      "Requirement already satisfied: requests in c:\\users\\pc\\appdata\\local\\programs\\python\\python312\\lib\\site-packages (from tavily-python) (2.32.3)\n",
      "Requirement already satisfied: tiktoken>=0.5.1 in c:\\users\\pc\\appdata\\local\\programs\\python\\python312\\lib\\site-packages (from tavily-python) (0.8.0)\n",
      "Requirement already satisfied: httpx in c:\\users\\pc\\appdata\\local\\programs\\python\\python312\\lib\\site-packages (from tavily-python) (0.27.2)\n",
      "Requirement already satisfied: regex>=2022.1.18 in c:\\users\\pc\\appdata\\local\\programs\\python\\python312\\lib\\site-packages (from tiktoken>=0.5.1->tavily-python) (2024.9.11)\n",
      "Requirement already satisfied: charset-normalizer<4,>=2 in c:\\users\\pc\\appdata\\local\\programs\\python\\python312\\lib\\site-packages (from requests->tavily-python) (3.3.2)\n",
      "Requirement already satisfied: idna<4,>=2.5 in c:\\users\\pc\\appdata\\local\\programs\\python\\python312\\lib\\site-packages (from requests->tavily-python) (3.9)\n",
      "Requirement already satisfied: urllib3<3,>=1.21.1 in c:\\users\\pc\\appdata\\local\\programs\\python\\python312\\lib\\site-packages (from requests->tavily-python) (2.2.3)\n",
      "Requirement already satisfied: certifi>=2017.4.17 in c:\\users\\pc\\appdata\\local\\programs\\python\\python312\\lib\\site-packages (from requests->tavily-python) (2024.8.30)\n",
      "Requirement already satisfied: anyio in c:\\users\\pc\\appdata\\local\\programs\\python\\python312\\lib\\site-packages (from httpx->tavily-python) (4.6.0)\n",
      "Requirement already satisfied: httpcore==1.* in c:\\users\\pc\\appdata\\local\\programs\\python\\python312\\lib\\site-packages (from httpx->tavily-python) (1.0.5)\n",
      "Requirement already satisfied: sniffio in c:\\users\\pc\\appdata\\local\\programs\\python\\python312\\lib\\site-packages (from httpx->tavily-python) (1.3.1)\n",
      "Requirement already satisfied: h11<0.15,>=0.13 in c:\\users\\pc\\appdata\\local\\programs\\python\\python312\\lib\\site-packages (from httpcore==1.*->httpx->tavily-python) (0.14.0)\n"
     ]
    },
    {
     "name": "stderr",
     "output_type": "stream",
     "text": [
      "\n",
      "[notice] A new release of pip is available: 24.3.1 -> 25.0\n",
      "[notice] To update, run: python.exe -m pip install --upgrade pip\n"
     ]
    }
   ],
   "source": [
    "!pip install tavily-python"
   ]
  },
  {
   "cell_type": "markdown",
   "metadata": {},
   "source": [
    "# *Tavily Original website** "
   ]
  },
  {
   "cell_type": "code",
   "execution_count": null,
   "metadata": {},
   "outputs": [
    {
     "name": "stdout",
     "output_type": "stream",
     "text": [
      "{'query': 'Recent news in Dhaka', 'follow_up_questions': None, 'answer': None, 'images': [], 'results': [{'url': 'https://www.ndtv.com/topic/dhaka-bangladesh', 'title': 'Latest News, Photos, Videos on Dhaka Bangladesh - NDTV.COM', 'content': 'Dhaka Bangladesh: Latest News, Photos, Videos on Dhaka Bangladesh - NDTV.COM India on Thursday condemned the vandalism of Bangladesh\\'s founding leader, Sheikh Mujibur Rahman\\'s residence in Dhaka, calling the act \"regrettable.\" India has received the request for extradition of ousted former Bangladesh Prime Minister Sheikh Hasina from Dhaka, the Ministry of External Affairs confirmed on Friday. Send Sheikh Hasina Back To Dhaka, Bangladesh Writes To India Send Sheikh Hasina Back To Dhaka, Bangladesh Writes To India India on Thursday condemned the vandalism of Bangladesh\\'s founding leader, Sheikh Mujibur Rahman\\'s residence in Dhaka, calling the act \"regrettable.\" India has received the request for extradition of ousted former Bangladesh Prime Minister Sheikh Hasina from Dhaka, the Ministry of External Affairs confirmed on Friday.', 'score': 0.8029425, 'raw_content': None}, {'url': 'https://www.bbc.com/news/topics/cp7ddeeyj5jt', 'title': 'Dhaka - BBC News', 'content': \"Dhaka - BBC News 24 Jul 2024  Drenched in blood - how Bangladesh protests turned deadly --------------------------------------------------------- At least 150 people have been killed - some of those caught up in the bloodshed describe what happened. 18 Jul 2024  Bangladesh issues high security alert as deadly protests escalate ----------------------------------------------------------------- A High Security Alert has been issued for the whole of Bangladesh, as violent clashes between students and police continue. 29 Oct 2023  Bangladesh opposition leader arrested after clashes --------------------------------------------------- Violent anti-government protests took place in Dhaka prior to Mirza Fakhrul Islam Alamgir's arrest. BBC Shop BBC in other languages Follow BBC on: About the BBC Contact the BBC Copyright 2025 BBC. The BBC is not responsible for the content of external sites.\", 'score': 0.77994305, 'raw_content': None}, {'url': 'https://www.thedailystar.net/', 'title': 'The Daily Star – Leading English Daily among Bangladesh ...', 'content': \"[![Image 4](https://www.thedailystar.net/)](https://www.thedailystar.net/opinion/views/news/six-months-the-interim-government-bangladesh-stands-critical-crossroads-3818606) [![Image 5](https://www.thedailystar.net/)](https://www.thedailystar.net/news/bangladesh/news/reform-now-crucial-stage-3818736) [![Image 6](https://www.thedailystar.net/)](https://www.thedailystar.net/news/bangladesh/news/attack-gazipur-anti-discrimination-student-movement-hold-protest-today-3818896) [![Image 8](https://www.thedailystar.net/)](https://www.thedailystar.net/news/bangladesh/news/un-chief-pledges-mobilise-aid-strengthen-un-role-rohingya-crisis-3818911) [![Image 10](https://www.thedailystar.net/)](https://www.thedailystar.net/news/world/news/trump-revokes-bidens-security-clearances-intelligence-briefings-3818886) [![Image 14](https://www.thedailystar.net/)](https://www.thedailystar.net/opinion/views/news/the-trump-20-era-whats-store-bangladesh-us-relations-3818476) [![Image 19: cooking oil shortage in Bangladesh](https://www.thedailystar.net/)](https://www.thedailystar.net/business/news/cooking-oil-goes-missing-grocery-shelves-again-3818176) [![Image 33](https://www.thedailystar.net/)](https://www.thedailystar.net/sports/football/news/maguire-strikes-late-man-utd-beat-leicester-fa-cup-3818871) [![Image 39](https://www.thedailystar.net/)](https://www.thedailystar.net/news/world/news/us-approves-sale-74-bn-bombs-missiles-israel-3818931) [![Image 40](https://www.thedailystar.net/)](https://www.thedailystar.net/news/world/israels-attack-on-palestine/news/hamas-israel-begin-fifth-hostage-prisoner-exchange-3818856) [![Image 44](https://www.thedailystar.net/)](https://www.thedailystar.net/my-dhaka/news/surviving-dhaka-one-commute-time-3818716) [![Image 45](https://www.thedailystar.net/)](https://www.thedailystar.net/my-dhaka/news/paw-carnival-2025-celebration-love-adoption-and-community-3817881) [![Image 46: Critics Choice Awards: 'Anora', 'Emilia Perez' win big](https://www.thedailystar.net/)](https://www.thedailystar.net/entertainment/tv-film/news/critics-choice-awards-anora-emilia-perez-win-big-3818921) [![Image 52: ‘Pet Carnival with Live Music’ to kick off in Dhaka ](https://www.thedailystar.net/)](https://www.thedailystar.net/entertainment/music/news/pet-carnival-live-music-kick-dhaka-3818411) [![Image 53: New ticket counter-based bus service set to launch in Dhaka to improve traffic order](https://www.thedailystar.net/)](https://www.thedailystar.net/life-living/news/convenience-or-more-chaos-public-sentiments-dhakas-2610-pink-buses-3817676) [![Image 59](https://www.thedailystar.net/)](https://www.thedailystar.net/life-living/news/missed-moments-post-wedding-photoshoots-the-rescue-3814241) [![Image 60](https://www.thedailystar.net/)](https://www.thedailystar.net/campus/education/news/guide-the-chevening-scholarship-law-students-3817736) [![Image 65: Trump orders crackdown on pro-Palestinian protesters](https://www.thedailystar.net/)](https://www.thedailystar.net/campus/education/news/trump-administration-cancel-student-visas-pro-palestinian-protesters-3812266) [![Image 67: Google hiring](https://www.thedailystar.net/)](https://www.thedailystar.net/tech-startup/news/google-ends-diversity-hiring-goals-3817451) [![Image 69: New ticket counter-based bus service set to launch in Dhaka to improve traffic order](https://www.thedailystar.net/)](https://www.thedailystar.net/tech-startup/news/new-ticket-based-pink-bus-service-ply-dhaka-roads-tomorrow-3816676) [![Image 70: DeepSeek ChatGPT](https://www.thedailystar.net/)](https://www.thedailystar.net/tech-startup/news/chatgpt-and-deepseek-banned-indias-finance-ministry-report-3816651) [![Image 72: DeepSeek AI reasoning model](https://www.thedailystar.net/)](https://www.thedailystar.net/news/world/news/australia-bans-deepseek-ai-program-government-devices-3816571) [![Image 77](https://www.thedailystar.net/)](https://www.thedailystar.net/daily-star-books/news/murakami-and-the-limits-artists-imagination-3817211) [![Image 78](https://www.thedailystar.net/)](https://www.thedailystar.net/daily-star-books/news/unquiet-legacies-salil-tripathis-the-colonel-who-would-not-repent-3812666) [![Image 79](https://www.thedailystar.net/)](https://www.thedailystar.net/daily-star-books/news/if-you-these-books-read-these-3812661) [![Image 80](https://www.thedailystar.net/)](https://www.thedailystar.net/daily-star-books/news/girls-do-comics-illustrating-change-beyond-the-panels-3810071) [![Image 81](https://www.thedailystar.net/)](https://www.thedailystar.net/daily-star-books/news/michael-madhusudan-dutt-pioneer-modern-bangla-literature-3808271)\", 'score': 0.735737, 'raw_content': None}, {'url': 'https://www.dhakatribune.com/latest-news', 'title': 'Latest News - Dhaka Tribune', 'content': 'Latest News · Govt employees demand swift ninth pay scale implementation · Yunus: Govt working with security forces to keep law and order · Jamaat Ameer: Ghulam', 'score': 0.7306941, 'raw_content': None}, {'url': 'https://apnews.com/hub/dhaka', 'title': 'Dhaka | AP News', 'content': \"Mideast Wars Russia-Ukraine War Español China Asia Pacific Latin America Europe Africa (AP Photo/Mahmud Hossain Opu)](https://dims.apnews.com/dims4/default/53de641/2147483647/strip/true/crop/7123x4745+0+2/resize/599x399!/quality/90/?url=https%3A%2F%2Fassets.apnews.com%2Fef%2Fa1%2F0e8d0e81ba5cbc1e44e39ab60bdb%2Fb9241121699b46a0977d2db23a9d63fc)](https://apnews.com/article/bangladesh-railway-strike-muhammad-yunus-sheikh-hasina-8cc726eb6827523ccd105397a497b3c2) (AP Photo)](https://dims.apnews.com/dims4/default/3f25924/2147483647/strip/true/crop/5771x3844+0+2/resize/599x399!/quality/90/?url=https%3A%2F%2Fassets.apnews.com%2Fdc%2F21%2Fd5438dca8e04789f7ed84bab8972%2F8f7abb5179c648898ebf0d0de9838f49)](https://apnews.com/article/bangladesh-hindu-leader-india-hasina-yunus-bail-20e3d6862554b07817222506a9c0efd3) (AP Photo/Mahmud Hossain Opu)](https://dims.apnews.com/dims4/default/1ddb103/2147483647/strip/true/crop/7360x4903+0+5/resize/599x399!/quality/90/?url=https%3A%2F%2Fassets.apnews.com%2F66%2F34%2Fc11141fbbf148cfb6a90ab7256ab%2F0816074bd1ea4eb982b1ad1588a47889)](https://apnews.com/article/bangladesh-hasina-student-protests-353ca862e4343779a8c420507d93c28a) [![Image 9: Members of Vishwa Hindu Parishad (VHP) shout slogans during a protest outside the Bangladesh High Commission in Mumbai, India, Monday, Dec. 2, 2024.(AP Photo/Rafiq Maqbool)](https://dims.apnews.com/dims4/default/95f2c66/2147483647/strip/true/crop/7928x5281+0+2/resize/599x399!/quality/90/?url=https%3A%2F%2Fassets.apnews.com%2F52%2F57%2F7f29d94dc0eb0b8a2dde478c2474%2Fa0cdd87fe75740a7b1a172972c158225)](https://apnews.com/article/bangladesh-india-hindu-leader-hasina-minority-groups-c45812dce748aec95e0430a977d71ef5) (AP Photo/Mahmud Hossain Opu)](https://dims.apnews.com/dims4/default/589e537/2147483647/strip/true/crop/6541x4357+0+4/resize/599x399!/quality/90/?url=https%3A%2F%2Fassets.apnews.com%2Fda%2Fb2%2F4f1a12ff821bc33b17c55c1c2759%2F0611f27c31cf452d8bc3ce00222289fa)](https://apnews.com/article/bangladesh-prabhu-hindu-leader-arrest-hasina-yunus-40bbfeb0096e0212d220e31966f25d97) (AP Photo/Mahmud Hossain Opu)](https://dims.apnews.com/dims4/default/3753600/2147483647/strip/true/crop/4461x2972+0+1/resize/599x399!/quality/90/?url=https%3A%2F%2Fassets.apnews.com%2F6d%2F06%2F4161356dc46cf2f550e9b41e3563%2F678075e556364d52a89020639a6f86d7)](https://apnews.com/article/bangladesh-sheikh-hasina-un-muhammad-yunus-human-rights-21f0de846824194734518823266c0cd3) (AP Photo/Rajib Dhar)](https://dims.apnews.com/dims4/default/8fdbaa6/2147483647/strip/true/crop/4878x3249+0+1/resize/599x399!/quality/90/?url=https%3A%2F%2Fassets.apnews.com%2F66%2Fcd%2F5a1cb9917c9a24a0b9802a096ad0%2F31fdedab075d4b01a7fbd20ee6a22204)](https://apnews.com/article/bangladesh-hasina-yunus-interim-government-students-rallies-fb755b83133b90d5c74b007c14ea30fb) (AP Photo/Rajib Dhar)](https://dims.apnews.com/dims4/default/880c7c5/2147483647/strip/true/crop/5923x3945+0+2/resize/599x399!/quality/90/?url=https%3A%2F%2Fassets.apnews.com%2F58%2Fb6%2F87bbf0046769ac0bdda596b14aa6%2Ffaece82718f0477493564f312429217c)](https://apnews.com/article/bangladesh-students-hasina-protests-dhaka-7ff5ea5cda8afa7883bc2e852e5d7849) (AP Photo/Rajib Dhar)](https://dims.apnews.com/dims4/default/c8fa7ce/2147483647/strip/true/crop/3822x2546+0+1/resize/599x399!/quality/90/?url=https%3A%2F%2Fassets.apnews.com%2F64%2F52%2F5d38ed9d399bdcd1662b545a5f33%2F1f813f112dcf44a1816a82dec95dfa95)](https://apnews.com/article/bangladesh-yunus-hasina-student-protests-8e72489d3f05ab50f1ea4564e5ad23aa) (AP Photo/Rajib Dhar)](https://dims.apnews.com/dims4/default/16a4d99/2147483647/strip/true/crop/6104x4066+0+2/resize/599x399!/quality/90/?url=https%3A%2F%2Fassets.apnews.com%2F5e%2F3f%2Fa1fdb9bfcf00a5b84ae1b863cdc0%2Fd3fa2cdc463c4c92b1429b3a43000e82)](https://apnews.com/article/bangladesh-hasina-student-protest-quota-violence-1496d6471792cbc11f39c3bacee813f7) (AP Photo/Rajib Dhar)](https://dims.apnews.com/dims4/default/5c568d8/2147483647/strip/true/crop/4303x2866+0+1/resize/599x399!/quality/90/?url=https%3A%2F%2Fassets.apnews.com%2F4c%2F66%2F107a4abc1e3a14543888a1e7d109%2F12d2f1cc120e4ac68bec3180e64fa918)](https://apnews.com/article/bangladesh-hasina-student-protests-violence-quota-06bf5f55de07d04aeb43b7b47a8b02a5) Police have fired tear gas and charged with batons overnight during violent clashes between a pro-government student body and student protesters, leaving dozens injured at a leading public university outside Bangladesh's capital over quota system in government jobs, police and students said Tuesday.(AP Photo/Abdul Goni)](https://dims.apnews.com/dims4/default/677c5d8/2147483647/strip/true/crop/3000x1998+0+1/resize/599x399!/quality/90/?url=https%3A%2F%2Fassets.apnews.com%2F%5B5%2F9%2C%2F%2050%2C%2050%2C%20-33%2C%20-31%2C%20-45%2C%2076%2C%2051%2C%20-35%2C%2016%2C%2040%2C%2010%2C%20-70%2C%20-61%2C%2041%2C%2063%2C%20-15%2C%20-45%2C%2072%2C%203%2C%20-20%2C%2043%2C%2086%2C%20117%2C%20123%2C%2071%2C%2049%2C%2029%5D%2F5f42992ce1e54e629be541e08c6c8bca)](https://apnews.com/article/bangladesh-quota-violence-hasina-student-protests-c3982590332a1639c88a22257e20f7d2) (AP Photo/ Mahmud Hossain Opu)](https://dims.apnews.com/dims4/default/d2cfd59/2147483647/strip/true/crop/6000x3997+0+2/resize/599x399!/quality/90/?url=https%3A%2F%2Fassets.apnews.com%2Fd4%2F0a%2F935231393ef06b2594d3f9333037%2F029cc5f18a88460f9dac44f48aba6f93)](https://apnews.com/article/bangladesh-election-khaleda-hasina-violence-38ef2ecad5b59304279c2ce86fbe8d09)\", 'score': 0.7077487, 'raw_content': None}], 'response_time': 1.19}\n",
      "user query=====Recent news in Dhaka \n",
      "\n",
      "user result list =====[{'url': 'https://www.ndtv.com/topic/dhaka-bangladesh', 'title': 'Latest News, Photos, Videos on Dhaka Bangladesh - NDTV.COM', 'content': 'Dhaka Bangladesh: Latest News, Photos, Videos on Dhaka Bangladesh - NDTV.COM India on Thursday condemned the vandalism of Bangladesh\\'s founding leader, Sheikh Mujibur Rahman\\'s residence in Dhaka, calling the act \"regrettable.\" India has received the request for extradition of ousted former Bangladesh Prime Minister Sheikh Hasina from Dhaka, the Ministry of External Affairs confirmed on Friday. Send Sheikh Hasina Back To Dhaka, Bangladesh Writes To India Send Sheikh Hasina Back To Dhaka, Bangladesh Writes To India India on Thursday condemned the vandalism of Bangladesh\\'s founding leader, Sheikh Mujibur Rahman\\'s residence in Dhaka, calling the act \"regrettable.\" India has received the request for extradition of ousted former Bangladesh Prime Minister Sheikh Hasina from Dhaka, the Ministry of External Affairs confirmed on Friday.', 'score': 0.8029425, 'raw_content': None}, {'url': 'https://www.bbc.com/news/topics/cp7ddeeyj5jt', 'title': 'Dhaka - BBC News', 'content': \"Dhaka - BBC News 24 Jul 2024  Drenched in blood - how Bangladesh protests turned deadly --------------------------------------------------------- At least 150 people have been killed - some of those caught up in the bloodshed describe what happened. 18 Jul 2024  Bangladesh issues high security alert as deadly protests escalate ----------------------------------------------------------------- A High Security Alert has been issued for the whole of Bangladesh, as violent clashes between students and police continue. 29 Oct 2023  Bangladesh opposition leader arrested after clashes --------------------------------------------------- Violent anti-government protests took place in Dhaka prior to Mirza Fakhrul Islam Alamgir's arrest. BBC Shop BBC in other languages Follow BBC on: About the BBC Contact the BBC Copyright 2025 BBC. The BBC is not responsible for the content of external sites.\", 'score': 0.77994305, 'raw_content': None}, {'url': 'https://www.thedailystar.net/', 'title': 'The Daily Star – Leading English Daily among Bangladesh ...', 'content': \"[![Image 4](https://www.thedailystar.net/)](https://www.thedailystar.net/opinion/views/news/six-months-the-interim-government-bangladesh-stands-critical-crossroads-3818606) [![Image 5](https://www.thedailystar.net/)](https://www.thedailystar.net/news/bangladesh/news/reform-now-crucial-stage-3818736) [![Image 6](https://www.thedailystar.net/)](https://www.thedailystar.net/news/bangladesh/news/attack-gazipur-anti-discrimination-student-movement-hold-protest-today-3818896) [![Image 8](https://www.thedailystar.net/)](https://www.thedailystar.net/news/bangladesh/news/un-chief-pledges-mobilise-aid-strengthen-un-role-rohingya-crisis-3818911) [![Image 10](https://www.thedailystar.net/)](https://www.thedailystar.net/news/world/news/trump-revokes-bidens-security-clearances-intelligence-briefings-3818886) [![Image 14](https://www.thedailystar.net/)](https://www.thedailystar.net/opinion/views/news/the-trump-20-era-whats-store-bangladesh-us-relations-3818476) [![Image 19: cooking oil shortage in Bangladesh](https://www.thedailystar.net/)](https://www.thedailystar.net/business/news/cooking-oil-goes-missing-grocery-shelves-again-3818176) [![Image 33](https://www.thedailystar.net/)](https://www.thedailystar.net/sports/football/news/maguire-strikes-late-man-utd-beat-leicester-fa-cup-3818871) [![Image 39](https://www.thedailystar.net/)](https://www.thedailystar.net/news/world/news/us-approves-sale-74-bn-bombs-missiles-israel-3818931) [![Image 40](https://www.thedailystar.net/)](https://www.thedailystar.net/news/world/israels-attack-on-palestine/news/hamas-israel-begin-fifth-hostage-prisoner-exchange-3818856) [![Image 44](https://www.thedailystar.net/)](https://www.thedailystar.net/my-dhaka/news/surviving-dhaka-one-commute-time-3818716) [![Image 45](https://www.thedailystar.net/)](https://www.thedailystar.net/my-dhaka/news/paw-carnival-2025-celebration-love-adoption-and-community-3817881) [![Image 46: Critics Choice Awards: 'Anora', 'Emilia Perez' win big](https://www.thedailystar.net/)](https://www.thedailystar.net/entertainment/tv-film/news/critics-choice-awards-anora-emilia-perez-win-big-3818921) [![Image 52: ‘Pet Carnival with Live Music’ to kick off in Dhaka ](https://www.thedailystar.net/)](https://www.thedailystar.net/entertainment/music/news/pet-carnival-live-music-kick-dhaka-3818411) [![Image 53: New ticket counter-based bus service set to launch in Dhaka to improve traffic order](https://www.thedailystar.net/)](https://www.thedailystar.net/life-living/news/convenience-or-more-chaos-public-sentiments-dhakas-2610-pink-buses-3817676) [![Image 59](https://www.thedailystar.net/)](https://www.thedailystar.net/life-living/news/missed-moments-post-wedding-photoshoots-the-rescue-3814241) [![Image 60](https://www.thedailystar.net/)](https://www.thedailystar.net/campus/education/news/guide-the-chevening-scholarship-law-students-3817736) [![Image 65: Trump orders crackdown on pro-Palestinian protesters](https://www.thedailystar.net/)](https://www.thedailystar.net/campus/education/news/trump-administration-cancel-student-visas-pro-palestinian-protesters-3812266) [![Image 67: Google hiring](https://www.thedailystar.net/)](https://www.thedailystar.net/tech-startup/news/google-ends-diversity-hiring-goals-3817451) [![Image 69: New ticket counter-based bus service set to launch in Dhaka to improve traffic order](https://www.thedailystar.net/)](https://www.thedailystar.net/tech-startup/news/new-ticket-based-pink-bus-service-ply-dhaka-roads-tomorrow-3816676) [![Image 70: DeepSeek ChatGPT](https://www.thedailystar.net/)](https://www.thedailystar.net/tech-startup/news/chatgpt-and-deepseek-banned-indias-finance-ministry-report-3816651) [![Image 72: DeepSeek AI reasoning model](https://www.thedailystar.net/)](https://www.thedailystar.net/news/world/news/australia-bans-deepseek-ai-program-government-devices-3816571) [![Image 77](https://www.thedailystar.net/)](https://www.thedailystar.net/daily-star-books/news/murakami-and-the-limits-artists-imagination-3817211) [![Image 78](https://www.thedailystar.net/)](https://www.thedailystar.net/daily-star-books/news/unquiet-legacies-salil-tripathis-the-colonel-who-would-not-repent-3812666) [![Image 79](https://www.thedailystar.net/)](https://www.thedailystar.net/daily-star-books/news/if-you-these-books-read-these-3812661) [![Image 80](https://www.thedailystar.net/)](https://www.thedailystar.net/daily-star-books/news/girls-do-comics-illustrating-change-beyond-the-panels-3810071) [![Image 81](https://www.thedailystar.net/)](https://www.thedailystar.net/daily-star-books/news/michael-madhusudan-dutt-pioneer-modern-bangla-literature-3808271)\", 'score': 0.735737, 'raw_content': None}, {'url': 'https://www.dhakatribune.com/latest-news', 'title': 'Latest News - Dhaka Tribune', 'content': 'Latest News · Govt employees demand swift ninth pay scale implementation · Yunus: Govt working with security forces to keep law and order · Jamaat Ameer: Ghulam', 'score': 0.7306941, 'raw_content': None}, {'url': 'https://apnews.com/hub/dhaka', 'title': 'Dhaka | AP News', 'content': \"Mideast Wars Russia-Ukraine War Español China Asia Pacific Latin America Europe Africa (AP Photo/Mahmud Hossain Opu)](https://dims.apnews.com/dims4/default/53de641/2147483647/strip/true/crop/7123x4745+0+2/resize/599x399!/quality/90/?url=https%3A%2F%2Fassets.apnews.com%2Fef%2Fa1%2F0e8d0e81ba5cbc1e44e39ab60bdb%2Fb9241121699b46a0977d2db23a9d63fc)](https://apnews.com/article/bangladesh-railway-strike-muhammad-yunus-sheikh-hasina-8cc726eb6827523ccd105397a497b3c2) (AP Photo)](https://dims.apnews.com/dims4/default/3f25924/2147483647/strip/true/crop/5771x3844+0+2/resize/599x399!/quality/90/?url=https%3A%2F%2Fassets.apnews.com%2Fdc%2F21%2Fd5438dca8e04789f7ed84bab8972%2F8f7abb5179c648898ebf0d0de9838f49)](https://apnews.com/article/bangladesh-hindu-leader-india-hasina-yunus-bail-20e3d6862554b07817222506a9c0efd3) (AP Photo/Mahmud Hossain Opu)](https://dims.apnews.com/dims4/default/1ddb103/2147483647/strip/true/crop/7360x4903+0+5/resize/599x399!/quality/90/?url=https%3A%2F%2Fassets.apnews.com%2F66%2F34%2Fc11141fbbf148cfb6a90ab7256ab%2F0816074bd1ea4eb982b1ad1588a47889)](https://apnews.com/article/bangladesh-hasina-student-protests-353ca862e4343779a8c420507d93c28a) [![Image 9: Members of Vishwa Hindu Parishad (VHP) shout slogans during a protest outside the Bangladesh High Commission in Mumbai, India, Monday, Dec. 2, 2024.(AP Photo/Rafiq Maqbool)](https://dims.apnews.com/dims4/default/95f2c66/2147483647/strip/true/crop/7928x5281+0+2/resize/599x399!/quality/90/?url=https%3A%2F%2Fassets.apnews.com%2F52%2F57%2F7f29d94dc0eb0b8a2dde478c2474%2Fa0cdd87fe75740a7b1a172972c158225)](https://apnews.com/article/bangladesh-india-hindu-leader-hasina-minority-groups-c45812dce748aec95e0430a977d71ef5) (AP Photo/Mahmud Hossain Opu)](https://dims.apnews.com/dims4/default/589e537/2147483647/strip/true/crop/6541x4357+0+4/resize/599x399!/quality/90/?url=https%3A%2F%2Fassets.apnews.com%2Fda%2Fb2%2F4f1a12ff821bc33b17c55c1c2759%2F0611f27c31cf452d8bc3ce00222289fa)](https://apnews.com/article/bangladesh-prabhu-hindu-leader-arrest-hasina-yunus-40bbfeb0096e0212d220e31966f25d97) (AP Photo/Mahmud Hossain Opu)](https://dims.apnews.com/dims4/default/3753600/2147483647/strip/true/crop/4461x2972+0+1/resize/599x399!/quality/90/?url=https%3A%2F%2Fassets.apnews.com%2F6d%2F06%2F4161356dc46cf2f550e9b41e3563%2F678075e556364d52a89020639a6f86d7)](https://apnews.com/article/bangladesh-sheikh-hasina-un-muhammad-yunus-human-rights-21f0de846824194734518823266c0cd3) (AP Photo/Rajib Dhar)](https://dims.apnews.com/dims4/default/8fdbaa6/2147483647/strip/true/crop/4878x3249+0+1/resize/599x399!/quality/90/?url=https%3A%2F%2Fassets.apnews.com%2F66%2Fcd%2F5a1cb9917c9a24a0b9802a096ad0%2F31fdedab075d4b01a7fbd20ee6a22204)](https://apnews.com/article/bangladesh-hasina-yunus-interim-government-students-rallies-fb755b83133b90d5c74b007c14ea30fb) (AP Photo/Rajib Dhar)](https://dims.apnews.com/dims4/default/880c7c5/2147483647/strip/true/crop/5923x3945+0+2/resize/599x399!/quality/90/?url=https%3A%2F%2Fassets.apnews.com%2F58%2Fb6%2F87bbf0046769ac0bdda596b14aa6%2Ffaece82718f0477493564f312429217c)](https://apnews.com/article/bangladesh-students-hasina-protests-dhaka-7ff5ea5cda8afa7883bc2e852e5d7849) (AP Photo/Rajib Dhar)](https://dims.apnews.com/dims4/default/c8fa7ce/2147483647/strip/true/crop/3822x2546+0+1/resize/599x399!/quality/90/?url=https%3A%2F%2Fassets.apnews.com%2F64%2F52%2F5d38ed9d399bdcd1662b545a5f33%2F1f813f112dcf44a1816a82dec95dfa95)](https://apnews.com/article/bangladesh-yunus-hasina-student-protests-8e72489d3f05ab50f1ea4564e5ad23aa) (AP Photo/Rajib Dhar)](https://dims.apnews.com/dims4/default/16a4d99/2147483647/strip/true/crop/6104x4066+0+2/resize/599x399!/quality/90/?url=https%3A%2F%2Fassets.apnews.com%2F5e%2F3f%2Fa1fdb9bfcf00a5b84ae1b863cdc0%2Fd3fa2cdc463c4c92b1429b3a43000e82)](https://apnews.com/article/bangladesh-hasina-student-protest-quota-violence-1496d6471792cbc11f39c3bacee813f7) (AP Photo/Rajib Dhar)](https://dims.apnews.com/dims4/default/5c568d8/2147483647/strip/true/crop/4303x2866+0+1/resize/599x399!/quality/90/?url=https%3A%2F%2Fassets.apnews.com%2F4c%2F66%2F107a4abc1e3a14543888a1e7d109%2F12d2f1cc120e4ac68bec3180e64fa918)](https://apnews.com/article/bangladesh-hasina-student-protests-violence-quota-06bf5f55de07d04aeb43b7b47a8b02a5) Police have fired tear gas and charged with batons overnight during violent clashes between a pro-government student body and student protesters, leaving dozens injured at a leading public university outside Bangladesh's capital over quota system in government jobs, police and students said Tuesday.(AP Photo/Abdul Goni)](https://dims.apnews.com/dims4/default/677c5d8/2147483647/strip/true/crop/3000x1998+0+1/resize/599x399!/quality/90/?url=https%3A%2F%2Fassets.apnews.com%2F%5B5%2F9%2C%2F%2050%2C%2050%2C%20-33%2C%20-31%2C%20-45%2C%2076%2C%2051%2C%20-35%2C%2016%2C%2040%2C%2010%2C%20-70%2C%20-61%2C%2041%2C%2063%2C%20-15%2C%20-45%2C%2072%2C%203%2C%20-20%2C%2043%2C%2086%2C%20117%2C%20123%2C%2071%2C%2049%2C%2029%5D%2F5f42992ce1e54e629be541e08c6c8bca)](https://apnews.com/article/bangladesh-quota-violence-hasina-student-protests-c3982590332a1639c88a22257e20f7d2) (AP Photo/ Mahmud Hossain Opu)](https://dims.apnews.com/dims4/default/d2cfd59/2147483647/strip/true/crop/6000x3997+0+2/resize/599x399!/quality/90/?url=https%3A%2F%2Fassets.apnews.com%2Fd4%2F0a%2F935231393ef06b2594d3f9333037%2F029cc5f18a88460f9dac44f48aba6f93)](https://apnews.com/article/bangladesh-election-khaleda-hasina-violence-38ef2ecad5b59304279c2ce86fbe8d09)\", 'score': 0.7077487, 'raw_content': None}] \n",
      "\n",
      "user result dictionary====={'url': 'https://www.ndtv.com/topic/dhaka-bangladesh', 'title': 'Latest News, Photos, Videos on Dhaka Bangladesh - NDTV.COM', 'content': 'Dhaka Bangladesh: Latest News, Photos, Videos on Dhaka Bangladesh - NDTV.COM India on Thursday condemned the vandalism of Bangladesh\\'s founding leader, Sheikh Mujibur Rahman\\'s residence in Dhaka, calling the act \"regrettable.\" India has received the request for extradition of ousted former Bangladesh Prime Minister Sheikh Hasina from Dhaka, the Ministry of External Affairs confirmed on Friday. Send Sheikh Hasina Back To Dhaka, Bangladesh Writes To India Send Sheikh Hasina Back To Dhaka, Bangladesh Writes To India India on Thursday condemned the vandalism of Bangladesh\\'s founding leader, Sheikh Mujibur Rahman\\'s residence in Dhaka, calling the act \"regrettable.\" India has received the request for extradition of ousted former Bangladesh Prime Minister Sheikh Hasina from Dhaka, the Ministry of External Affairs confirmed on Friday.', 'score': 0.8029425, 'raw_content': None} \n",
      "\n",
      "user result dictionary url=====https://www.ndtv.com/topic/dhaka-bangladesh \n",
      "\n",
      "user result dictionary title=====Latest News, Photos, Videos on Dhaka Bangladesh - NDTV.COM \n",
      "\n",
      "user result dictionary content=====Dhaka Bangladesh: Latest News, Photos, Videos on Dhaka Bangladesh - NDTV.COM India on Thursday condemned the vandalism of Bangladesh's founding leader, Sheikh Mujibur Rahman's residence in Dhaka, calling the act \"regrettable.\" India has received the request for extradition of ousted former Bangladesh Prime Minister Sheikh Hasina from Dhaka, the Ministry of External Affairs confirmed on Friday. Send Sheikh Hasina Back To Dhaka, Bangladesh Writes To India Send Sheikh Hasina Back To Dhaka, Bangladesh Writes To India India on Thursday condemned the vandalism of Bangladesh's founding leader, Sheikh Mujibur Rahman's residence in Dhaka, calling the act \"regrettable.\" India has received the request for extradition of ousted former Bangladesh Prime Minister Sheikh Hasina from Dhaka, the Ministry of External Affairs confirmed on Friday. \n",
      "\n"
     ]
    }
   ],
   "source": [
    "# To install, run: pip install tavily-python\n",
    "from tavily import TavilyClient\n",
    "from dotenv import load_dotenv\n",
    "import os\n",
    "\n",
    "load_dotenv()\n",
    "\n",
    "api_key = os.getenv(\"TAVILY_API_KEY\")\n",
    "\n",
    "client = TavilyClient(api_key=api_key)\n",
    "# client = TavilyClient(api_key=\"............\")\n",
    "\n",
    "response = client.search(\n",
    "    query=\"Recent news in Dhaka\"\n",
    ")\n",
    "print(response)\n",
    "print(f\"user query====={response[\"query\"]} \\n\")\n",
    "print(f\"user result list ====={response[\"results\"]} \\n\")\n",
    "print(f\"user result dictionary====={response[\"results\"][0]} \\n\")\n",
    "print(f\"user result dictionary url====={response[\"results\"][0][\"url\"]} \\n\")\n",
    "print(f\"user result dictionary title====={response[\"results\"][0][\"title\"]} \\n\")\n",
    "print(f\"user result dictionary content====={response[\"results\"][0][\"content\"]} \\n\")"
   ]
  },
  {
   "cell_type": "markdown",
   "metadata": {},
   "source": [
    "# **tavily search using Langchain final**"
   ]
  },
  {
   "cell_type": "code",
   "execution_count": 28,
   "metadata": {},
   "outputs": [
    {
     "name": "stdout",
     "output_type": "stream",
     "text": [
      "results======[{'url': 'https://www.bbc.com/news/topics/cp7ddeeyj5jt', 'content': \"Dhaka - BBC News 24 Jul 2024  Drenched in blood - how Bangladesh protests turned deadly --------------------------------------------------------- At least 150 people have been killed - some of those caught up in the bloodshed describe what happened. 18 Jul 2024  Bangladesh issues high security alert as deadly protests escalate ----------------------------------------------------------------- A High Security Alert has been issued for the whole of Bangladesh, as violent clashes between students and police continue. 29 Oct 2023  Bangladesh opposition leader arrested after clashes --------------------------------------------------- Violent anti-government protests took place in Dhaka prior to Mirza Fakhrul Islam Alamgir's arrest. BBC Shop BBC in other languages Follow BBC on: About the BBC Contact the BBC Copyright 2025 BBC. The BBC is not responsible for the content of external sites.\"}] \n",
      " \n",
      "\n",
      "type=== <class 'list'> \n",
      "\n",
      "result=== [{'url': 'https://www.bbc.com/news/topics/cp7ddeeyj5jt', 'content': \"Dhaka - BBC News 24 Jul 2024  Drenched in blood - how Bangladesh protests turned deadly --------------------------------------------------------- At least 150 people have been killed - some of those caught up in the bloodshed describe what happened. 18 Jul 2024  Bangladesh issues high security alert as deadly protests escalate ----------------------------------------------------------------- A High Security Alert has been issued for the whole of Bangladesh, as violent clashes between students and police continue. 29 Oct 2023  Bangladesh opposition leader arrested after clashes --------------------------------------------------- Violent anti-government protests took place in Dhaka prior to Mirza Fakhrul Islam Alamgir's arrest. BBC Shop BBC in other languages Follow BBC on: About the BBC Contact the BBC Copyright 2025 BBC. The BBC is not responsible for the content of external sites.\"}] \n",
      "\n",
      "result[0]=== {'url': 'https://www.bbc.com/news/topics/cp7ddeeyj5jt', 'content': \"Dhaka - BBC News 24 Jul 2024  Drenched in blood - how Bangladesh protests turned deadly --------------------------------------------------------- At least 150 people have been killed - some of those caught up in the bloodshed describe what happened. 18 Jul 2024  Bangladesh issues high security alert as deadly protests escalate ----------------------------------------------------------------- A High Security Alert has been issued for the whole of Bangladesh, as violent clashes between students and police continue. 29 Oct 2023  Bangladesh opposition leader arrested after clashes --------------------------------------------------- Violent anti-government protests took place in Dhaka prior to Mirza Fakhrul Islam Alamgir's arrest. BBC Shop BBC in other languages Follow BBC on: About the BBC Contact the BBC Copyright 2025 BBC. The BBC is not responsible for the content of external sites.\"} \n",
      "\n",
      "type of results[0] ====== <class 'dict'> \n",
      "\n",
      "first url ====== https://www.bbc.com/news/topics/cp7ddeeyj5jt \n",
      "\n",
      "first content ====== Dhaka - BBC News 24 Jul 2024  Drenched in blood - how Bangladesh protests turned deadly --------------------------------------------------------- At least 150 people have been killed - some of those caught up in the bloodshed describe what happened. 18 Jul 2024  Bangladesh issues high security alert as deadly protests escalate ----------------------------------------------------------------- A High Security Alert has been issued for the whole of Bangladesh, as violent clashes between students and police continue. 29 Oct 2023  Bangladesh opposition leader arrested after clashes --------------------------------------------------- Violent anti-government protests took place in Dhaka prior to Mirza Fakhrul Islam Alamgir's arrest. BBC Shop BBC in other languages Follow BBC on: About the BBC Contact the BBC Copyright 2025 BBC. The BBC is not responsible for the content of external sites. \n",
      "\n"
     ]
    }
   ],
   "source": [
    "from langchain_community.tools.tavily_search import TavilySearchResults\n",
    "import os\n",
    "from dotenv import load_dotenv\n",
    "\n",
    "load_dotenv()\n",
    "\n",
    "api_key = os.getenv(\"TAVILY_API_KEY\")\n",
    "\n",
    "search = TavilySearchResults(api_key=api_key, max_results=1)\n",
    "results = search.invoke(\"Recent news in Dhaka\")\n",
    "print(f\"results======{results} \\n \\n\")\n",
    "print(f\"type=== {type(results)} \\n\")\n",
    "print(f\"result=== {results} \\n\")\n",
    "print(f\"result[0]=== {results[0]} \\n\")\n",
    "print(f\"type of results[0] ====== {type(results[0])} \\n\")\n",
    "print(f\"first url ====== {results[0][\"url\"]} \\n\")\n",
    "print(f\"first content ====== {results[0][\"content\"]} \\n\")\n",
    "\n"
   ]
  },
  {
   "cell_type": "code",
   "execution_count": null,
   "metadata": {},
   "outputs": [],
   "source": []
  },
  {
   "cell_type": "markdown",
   "metadata": {},
   "source": [
    "# **ReSearch agent with functionality**"
   ]
  },
  {
   "cell_type": "code",
   "execution_count": 44,
   "metadata": {},
   "outputs": [
    {
     "data": {
      "image/png": "[encoded data removed]",
      "text/plain": [
       "<IPython.core.display.Image object>"
      ]
     },
     "metadata": {},
     "output_type": "display_data"
    },
    {
     "name": "stdout",
     "output_type": "stream",
     "text": [
      "---------------------node1------------------------\n",
      "user query in first node === I am expert in machine learning . I need job link.\n",
      "---------------------node2------------------------\n",
      "user query in second note==== I am expert in machine learning . I need job link.\n",
      "llm response===== \"Machine learning expert job openings\". \n",
      "\n",
      "---------------------node3------------------------\n",
      "search url===== https://se.expertini.com/jobs/search/machine-learning-expert-jobs-sk%C3%B6vde/   \n",
      "\n",
      "search content ===== ... Machine Learning Expert job openings in Skövde. This ensures you stay updated and can apply promptly to relevant opportunities. We provide customized job   \n",
      "\n",
      "---------------------node4------------------------\n",
      "llm final result response===== Here is the organized content with URLs:\n",
      "\n",
      "**Machine Learning Expert Job Openings**\n",
      "\n",
      "1. **Skövde, Sweden**\n",
      "\t* URL: https://se.expertini.com/jobs/search/machine-learning-expert-jobs-sk%C3%B6vde/\n",
      "\t* Description: Stay updated on job openings and apply promptly to relevant opportunities.\n",
      "2. **Jersey, NJ, USA**\n",
      "\t* URL: https://www.salary.com/job/infotree-global-solutions/machine-learning-expert/j202412162314523392921\n",
      "\t* Description: Receive alerts for other Machine Learning Expert job openings. Hourly Wage Estimation: $38 - $49.\n",
      "3. **London, UK**\n",
      "\t* URL: https://uk.expertini.com/jobs/search/senior-software-engineer-machine-learning-expert-jobs-london/\n",
      "\t* Description: Sign up for personalized job alerts to receive notifications about new Senior Software Engineer Machine Learning Expert job openings.\n",
      "\n",
      "Let me know if you'd like me to format it differently! \n",
      "\n"
     ]
    }
   ],
   "source": [
    "from langchain_community.tools.tavily_search import TavilySearchResults\n",
    "import os\n",
    "from dotenv import load_dotenv\n",
    "\n",
    "\n",
    "from IPython.display import Image, display  \n",
    "from langgraph.graph import Graph\n",
    "from langchain_ollama import ChatOllama\n",
    "\n",
    "user_query=\"\"\n",
    "\n",
    "llm = ChatOllama(\n",
    "    # model=\"deepseek-r1:1.5b\",\n",
    "    model=\"llama3.1:8b\",\n",
    "    temperature=0\n",
    ")\n",
    "\n",
    "\n",
    "def user_raw_query(input_1):\n",
    "    print(f\"---------------------node1------------------------\")\n",
    "    x=input_1\n",
    "    user_query=input_1\n",
    "    print(f\"user query in first node === {user_query}\")\n",
    "    return x\n",
    "\n",
    "def user_query_optimize_node(input_2):\n",
    "    print(f\"---------------------node2------------------------\")\n",
    "    print(f\"user query in second note==== {input_2}\")\n",
    "    prompt=f'Here I give you user query \"{input_2}\". Modify this query for internet search and only give that sentence only'\n",
    "    response= llm.invoke(prompt).content\n",
    "    print(f\"llm response===== {response} \\n\")\n",
    "    return response\n",
    "\n",
    "\n",
    "\n",
    "def search_node(input_3):\n",
    "    print(f\"---------------------node3------------------------\")\n",
    "    load_dotenv()\n",
    "    api_key = os.getenv(\"TAVILY_API_KEY\")\n",
    "    search = TavilySearchResults(api_key=api_key, max_results=5)\n",
    "    results = search.invoke(input_3)\n",
    "    print(f\"search url===== {results[0][\"url\"]}   \\n\")\n",
    "    print(f\"search content ===== {results[0][\"content\"]}   \\n\")\n",
    "    return results\n",
    "\n",
    "\n",
    "def final_node(input_4):\n",
    "    print(f\"---------------------node4------------------------\")\n",
    "    # print(f\"from searchapi we get url====== {input_4[0][\"url\"]}\")\n",
    "    # print(f\"from searchapi we get content====== {input_4[0][\"content\"]}\"\n",
    "    prompt=f'Here I give you content and url \"{input_4}\". now organize these content and url and show those to user.'\n",
    "\n",
    "    # prompt=f'Here I give you a result based on user query= \"{user_query}\". And here is the result from interent=\"{input_4[0][\"content\"]}\" . Now your task is to organize the resuolt and give the result to user. '\n",
    "    response= llm.invoke(prompt).content\n",
    "    print(f\"llm final result response===== {response} \\n\")\n",
    "\n",
    "\n",
    "\n",
    "\n",
    "workflow = Graph()\n",
    "\n",
    "workflow.add_node(\"node_1\", user_raw_query)\n",
    "workflow.add_node(\"node_2\", user_query_optimize_node)\n",
    "workflow.add_node(\"node_3\", search_node)\n",
    "workflow.add_node(\"node_4\", final_node)\n",
    "\n",
    "workflow.add_edge(\"node_1\", \"node_2\")\n",
    "workflow.add_edge(\"node_2\", \"node_3\")\n",
    "workflow.add_edge(\"node_3\", \"node_4\")\n",
    "\n",
    "workflow.set_entry_point(\"node_1\")\n",
    "workflow.set_finish_point(\"node_4\")\n",
    "\n",
    "app = workflow.compile()\n",
    "\n",
    "\n",
    "\n",
    "display(Image(app.get_graph().draw_mermaid_png()))\n",
    "\n",
    "app.invoke(\"I am expert in machine learning . I need job link.\")\n",
    "\n",
    "# print(user_query_optimize_node(\"What is the weather in Dhaka?\"))\n"
   ]
  },
  {
   "cell_type": "code",
   "execution_count": 33,
   "metadata": {},
   "outputs": [
    {
     "name": "stdout",
     "output_type": "stream",
     "text": [
      "llm response===== I'm ready when you are. What's the user query? \n",
      "\n",
      "search url===== https://www.quora.com/What-is-the-correct-reply-when-someone-asks-if-youre-ready   \n",
      "\n",
      "search content ===== What is the correct reply when someone asks if you're ready?” If you are on time, the correct response is no more than 5 or 10 minutes.   \n",
      "\n"
     ]
    },
    {
     "data": {
      "text/plain": [
       "[{'url': 'https://www.quora.com/What-is-the-correct-reply-when-someone-asks-if-youre-ready',\n",
       "  'content': \"What is the correct reply when someone asks if you're ready?” If you are on time, the correct response is no more than 5 or 10 minutes.\"}]"
      ]
     },
     "execution_count": 33,
     "metadata": {},
     "output_type": "execute_result"
    }
   ],
   "source": [
    "app.invoke(\"What is the weather in Dhaka?\")"
   ]
  },
  {
   "cell_type": "markdown",
   "metadata": {},
   "source": []
  },
  {
   "cell_type": "code",
   "execution_count": null,
   "metadata": {},
   "outputs": [],
   "source": []
  }
 ],
 "metadata": {
  "kernelspec": {
   "display_name": "Python 3",
   "language": "python",
   "name": "python3"
  },
  "language_info": {
   "codemirror_mode": {
    "name": "ipython",
    "version": 3
   },
   "file_extension": ".py",
   "mimetype": "text/x-python",
   "name": "python",
   "nbconvert_exporter": "python",
   "pygments_lexer": "ipython3",
   "version": "3.12.4"
  }
 },
 "nbformat": 4,
 "nbformat_minor": 2
}
